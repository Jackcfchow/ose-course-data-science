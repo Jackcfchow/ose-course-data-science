{
 "cells": [
  {
   "cell_type": "code",
   "execution_count": 1,
   "metadata": {
    "nbsphinx": "hidden"
   },
   "outputs": [],
   "source": [
    "from collections import OrderedDict\n",
    "from itertools import product\n",
    "import pickle as pkl\n",
    "import os\n",
    "\n",
    "import seaborn as sns\n",
    "import pandas as pd\n",
    "import numpy as np\n",
    "\n",
    "from auxiliary import get_propensity_scores_matching_demonstration_4\n",
    "from auxiliary import get_sample_matching_demonstration_2\n",
    "from auxiliary import get_sample_matching_demonstration_3\n",
    "from auxiliary import get_sample_matching_demonstration_4\n",
    "from auxiliary import get_sparsity_pattern_by_treatment\n",
    "from auxiliary import get_sparsity_pattern_overall\n",
    "from auxiliary import get_propensity_score_3\n",
    "from auxiliary import plot_propensity_score\n",
    "from auxiliary import get_common_support\n",
    "from auxiliary import get_lalonde_data\n",
    "from auxiliary import get_inv_odds\n",
    "from auxiliary import plot_weights\n",
    "from auxiliary import get_odds\n",
    "\n",
    "np.random.seed(123)"
   ]
  },
  {
   "cell_type": "markdown",
   "metadata": {},
   "source": [
    "# Matching estimators of causal effects"
   ]
  },
  {
   "cell_type": "markdown",
   "metadata": {},
   "source": [
    "### Introduction"
   ]
  },
  {
   "cell_type": "markdown",
   "metadata": {
    "pycharm": {},
    "slideshow": {
     "slide_type": "slide"
    }
   },
   "source": [
    "There exists only one back-door path $D \\leftarrow S \\leftrightarrow X \\rightarrow Y$ and both $S$ nor $X$ are observable. Thus, we have a choice to condition on either one of them.\n",
    "\n",
    "<img src=\"material/fig-conditioning-balance-adjust.png\" width=\"300\" />\n",
    "\n",
    "* $X$, regression estimator, adjustment-for-other-causes conditioning strategy\n",
    "* $S$, matching estimator, balancing conditioning strategy\n",
    "\n",
    "**Agenda**\n",
    "\n",
    "* matching as conditioning via stratification\n",
    "* matching as weighting\n",
    "* matching as data analysis algorithm\n",
    "\n",
    "**Fundamental concepts**\n",
    "\n",
    "* stratification of data\n",
    "* weighting to achieve balance\n",
    "* propensity scores\n",
    "\n",
    "**Views on matching**\n",
    "\n",
    "* method to form quasi-experimental contrasts by sampling comparable treatment and control cases\n",
    "* nonparametric method of adjustment for treatment assignment patterns\n",
    "\n",
    "**Simulation data**\n",
    "\n",
    "The simulated data is inspired by real-world applications and thus rather complex. Nevertheless, the will serve as examples for several of the upcoming lectures. That is why we will invest some time initially to set up one of them in details."
   ]
  },
  {
   "cell_type": "markdown",
   "metadata": {
    "pycharm": {},
    "slideshow": {
     "slide_type": "slide"
    }
   },
   "source": [
    "### Matching as conditioning via stratification"
   ]
  },
  {
   "cell_type": "markdown",
   "metadata": {
    "pycharm": {},
    "slideshow": {
     "slide_type": "slide"
    }
   },
   "source": [
    "Individuals within groups determined by $S$ are entirely indistinguishable from each other in all ways except \n",
    "\n",
    "* observed treatment status\n",
    "\n",
    "* differences in potential outcomes that are independent of treatment status\n",
    "\n",
    "More formally, we are able to assert the following **conditional independence assumptions**.\n",
    "\n",
    "\\begin{align*}\n",
    "E[Y^1 \\mid D = 1, S] = E[Y^1 \\mid D = 0, S] \\\\\n",
    "E[Y^0 \\mid D = 1, S] = E[Y^0 \\mid D = 0, S]\n",
    "\\end{align*}\n",
    "\n",
    "implied by ...\n",
    "\n",
    "* treatment assignment is ignorable\n",
    "* selection on observables\n",
    "\n",
    "**ATC**\n",
    "\n",
    "\\begin{align*}\n",
    "E[\\delta \\mid D = 0, S] & = E[Y^1 - Y^0 \\mid D = 0, S] \\\\\n",
    "& = E[Y^1 \\mid D = 0, S] - E[Y^0 \\mid D = 0, S] \\\\\n",
    "& = E[Y^1 \\mid D = 1, S] - E[Y^0 \\mid D = 0, S] \\\\\n",
    "& = E[Y \\mid D = 1, S] - E[Y \\mid D = 0, S] \\\\\n",
    "\\end{align*}\n",
    "\n",
    "**ATT**\n",
    "\\begin{align*}\n",
    "E[\\delta \\mid D = 1, S] & = E[Y^1 - Y^0 \\mid D = 1, S] \\\\\n",
    "& = E[Y^1 \\mid D = 1, S] - E[Y^0 \\mid D = 1, S] \\\\\n",
    "& = E[Y \\mid D = 1, S] - E[Y \\mid D = 0, S] \\\\\n",
    "\\end{align*}\n",
    "\n",
    "<img src=\"material/fig-matching-demonstration-1.png\" width=\"500\" />\n",
    "\n",
    "**Features**\n",
    "\n",
    "* The gains from treatment participation differ in each stratum and those that have the most to gain are more likely to participate. So unconditional independence between $D$ and $(Y^1, Y^2)$ does not hold.\n",
    "\n",
    "Let's study these idealized conditions for a simulated dataset."
   ]
  },
  {
   "cell_type": "code",
   "execution_count": 2,
   "metadata": {},
   "outputs": [],
   "source": [
    "def get_sample_matching_demonstration_1(num_agents):\n",
    "    \"\"\"Simulate sample\n",
    "\n",
    "    Simulates a sample based for mathcing demonstration one using the information provided\n",
    "    in Table 6.1.\n",
    "\n",
    "    Args:\n",
    "        num_agents: An integer that specifies the number of individuals\n",
    "            to sample.\n",
    "\n",
    "    Returns:\n",
    "        Returns a dataframe with the observables (Y, S, D) as well as\n",
    "        the unobservables (Y_1, Y_0).\n",
    "    \"\"\"\n",
    "\n",
    "    def get_potential_outcomes(s):\n",
    "        \"\"\"Get potential outcomes.\n",
    "\n",
    "        Assigns the potential outcomes based on the observable S and\n",
    "        the information in Table 6.1.\n",
    "\n",
    "        Notes:\n",
    "            The two potential outcomes are solely a function of the\n",
    "            observable and are not associated with the treatment\n",
    "            variable D.\n",
    "\n",
    "        Args:\n",
    "            s: an integer for the value of the stratification variable\n",
    "\n",
    "        Returns:\n",
    "            A tuple with the two potential outcomes.\n",
    "        \"\"\"\n",
    "        if s == 1:\n",
    "            y_1, y_0 = 4, 2\n",
    "        elif s == 2:\n",
    "            y_1, y_0 = 8, 6\n",
    "        elif s == 3:\n",
    "            y_1, y_0 = 14, 10\n",
    "        else:\n",
    "            raise AssertionError\n",
    "\n",
    "        # We want some randomness.\n",
    "        y_1 += np.random.normal()\n",
    "        y_0 += np.random.normal()\n",
    "\n",
    "        return y_1, y_0\n",
    "\n",
    "    # Store some information about the sample variables\n",
    "    # and initialize an empty dataframe.\n",
    "    info = OrderedDict()\n",
    "    info[\"Y\"] = np.float\n",
    "    info[\"D\"] = np.int\n",
    "    info[\"S\"] = np.int\n",
    "    info[\"Y_1\"] = np.float\n",
    "    info[\"Y_0\"] = np.float\n",
    "\n",
    "    df = pd.DataFrame(columns=info.keys())\n",
    "\n",
    "    for i in range(num_agents):\n",
    "        # Simulate from the joint distribution of the\n",
    "        # observables.\n",
    "        deviates = list(product(range(1, 4), range(2)))\n",
    "        probs = [0.36, 0.08, 0.12, 0.12, 0.12, 0.20]\n",
    "        idx = np.random.choice(range(6), p=probs)\n",
    "        s, d = deviates[idx]\n",
    "\n",
    "        # Get potential outcomes and determine observed\n",
    "        # outcome.\n",
    "        y_1, y_0 = get_potential_outcomes(s)\n",
    "        y = d * y_1 + (1 - d) * y_0\n",
    "\n",
    "        # Collect information\n",
    "        df.loc[i] = y, d, s, y_1, y_0\n",
    "\n",
    "    # We want to enforce suitable types for each column.\n",
    "    # Unfortunately, this cannot be done at the time of\n",
    "    # initialization.\n",
    "    df = df.astype(info)\n",
    "\n",
    "    return df"
   ]
  },
  {
   "cell_type": "markdown",
   "metadata": {
    "pycharm": {},
    "slideshow": {
     "slide_type": "slide"
    }
   },
   "source": [
    "Let us see our simulation in action."
   ]
  },
  {
   "cell_type": "code",
   "execution_count": 3,
   "metadata": {
    "pycharm": {},
    "slideshow": {
     "slide_type": "-"
    }
   },
   "outputs": [
    {
     "data": {
      "text/html": [
       "<div>\n",
       "<style scoped>\n",
       "    .dataframe tbody tr th:only-of-type {\n",
       "        vertical-align: middle;\n",
       "    }\n",
       "\n",
       "    .dataframe tbody tr th {\n",
       "        vertical-align: top;\n",
       "    }\n",
       "\n",
       "    .dataframe thead th {\n",
       "        text-align: right;\n",
       "    }\n",
       "</style>\n",
       "<table border=\"1\" class=\"dataframe\">\n",
       "  <thead>\n",
       "    <tr style=\"text-align: right;\">\n",
       "      <th></th>\n",
       "      <th>Y</th>\n",
       "      <th>D</th>\n",
       "      <th>S</th>\n",
       "    </tr>\n",
       "  </thead>\n",
       "  <tbody>\n",
       "    <tr>\n",
       "      <th>0</th>\n",
       "      <td>9.254559</td>\n",
       "      <td>0</td>\n",
       "      <td>3</td>\n",
       "    </tr>\n",
       "    <tr>\n",
       "      <th>1</th>\n",
       "      <td>7.651437</td>\n",
       "      <td>0</td>\n",
       "      <td>2</td>\n",
       "    </tr>\n",
       "    <tr>\n",
       "      <th>2</th>\n",
       "      <td>13.795799</td>\n",
       "      <td>1</td>\n",
       "      <td>3</td>\n",
       "    </tr>\n",
       "    <tr>\n",
       "      <th>3</th>\n",
       "      <td>5.265936</td>\n",
       "      <td>1</td>\n",
       "      <td>1</td>\n",
       "    </tr>\n",
       "    <tr>\n",
       "      <th>4</th>\n",
       "      <td>3.856628</td>\n",
       "      <td>1</td>\n",
       "      <td>1</td>\n",
       "    </tr>\n",
       "  </tbody>\n",
       "</table>\n",
       "</div>"
      ],
      "text/plain": [
       "           Y  D  S\n",
       "0   9.254559  0  3\n",
       "1   7.651437  0  2\n",
       "2  13.795799  1  3\n",
       "3   5.265936  1  1\n",
       "4   3.856628  1  1"
      ]
     },
     "execution_count": 3,
     "metadata": {},
     "output_type": "execute_result"
    }
   ],
   "source": [
    "df = get_sample_matching_demonstration_1(num_agents=1000)\n",
    "df[[\"Y\", \"D\", \"S\"]].head()"
   ]
  },
  {
   "cell_type": "markdown",
   "metadata": {},
   "source": [
    "We are in the comfortable position to not only compute the naive estimate but also the true average treatment effect."
   ]
  },
  {
   "cell_type": "code",
   "execution_count": 4,
   "metadata": {
    "pycharm": {},
    "slideshow": {
     "slide_type": "-"
    }
   },
   "outputs": [
    {
     "data": {
      "text/plain": [
       "'The true ATE is 2.73 while its naive estimate is 5.96. Why?'"
      ]
     },
     "execution_count": 4,
     "metadata": {},
     "output_type": "execute_result"
    }
   ],
   "source": [
    "ate_naive = df.query(\"D == 1\")[\"Y\"].mean() - df.query(\"D == 0\")[\"Y\"].mean()\n",
    "ate_true = df[\"Y_1\"].sub(df[\"Y_0\"]).mean()\n",
    "\n",
    "f\"The true ATE is {ate_true:4.2f} while its naive estimate is {ate_naive:4.2f}. Why?\""
   ]
  },
  {
   "cell_type": "markdown",
   "metadata": {},
   "source": [
    "What to do?"
   ]
  },
  {
   "cell_type": "code",
   "execution_count": 5,
   "metadata": {},
   "outputs": [
    {
     "data": {
      "text/plain": [
       "S  D\n",
       "1  0     2.086518\n",
       "   1     4.187777\n",
       "2  0     6.032950\n",
       "   1     8.058900\n",
       "3  0     9.902624\n",
       "   1    14.136920\n",
       "Name: Y, dtype: float64"
      ]
     },
     "execution_count": 5,
     "metadata": {},
     "output_type": "execute_result"
    }
   ],
   "source": [
    "df.groupby([\"S\", \"D\"])[\"Y\"].mean()"
   ]
  },
  {
   "cell_type": "markdown",
   "metadata": {
    "pycharm": {},
    "slideshow": {
     "slide_type": "slide"
    }
   },
   "source": [
    "Note that the observed outcomes within each stratum correspond to the average potential outcome \n",
    "within the stratum. We can compute the average treatment effect by looking at the difference within each strata."
   ]
  },
  {
   "cell_type": "code",
   "execution_count": 6,
   "metadata": {},
   "outputs": [
    {
     "data": {
      "text/plain": [
       "'The stratified estimate for the ATE is 2.80'"
      ]
     },
     "execution_count": 6,
     "metadata": {},
     "output_type": "execute_result"
    }
   ],
   "source": [
    "rslt_outc = df.groupby([\"S\", \"D\"])[\"Y\"].mean()\n",
    "rslt_strat = df[\"S\"].value_counts(normalize=True)\n",
    "\n",
    "ate_est = 0.0\n",
    "for s in [1, 2, 3]:\n",
    "    ate_est += (rslt_outc.loc[s, 1] - rslt_outc.loc[s, 0]) * rslt_strat[s]\n",
    "\n",
    "f\"The stratified estimate for the ATE is {ate_est:4.2f}\""
   ]
  },
  {
   "cell_type": "markdown",
   "metadata": {
    "pycharm": {},
    "slideshow": {
     "slide_type": "-"
    }
   },
   "source": [
    "The ATT and ATC can be computed analogously just by applying the appropriate weights to the strata-specific effect of treatment.\n",
    "\n",
    "More generally.\n",
    "\n",
    "\\begin{align*}\n",
    "\\{E_N [y_i \\mid d_i = 1, s = s_i] - E_N [y_i \\mid d_i = 0, s = s_i]\\} \\\\\n",
    "\\xrightarrow{p} E[Y^1 - Y^0\\mid S = s] = E[\\delta \\mid S = s].\n",
    "\\end{align*}\n",
    "Weighted sums of these stratified estimates can then be taken such as for the unconditional ATE:\n",
    "\\begin{align*}\n",
    "& \\sum_s \\{E_N[y_i \\mid d_i = 1, s_i = s] - E_N[y_i \\mid d_i = 0, s_i = s]\\} \\\\\n",
    "& * {\\Pr}_N[s_i = s] \\xrightarrow{p} E[\\delta]\n",
    "\\end{align*}\n",
    "\n",
    "\n",
    "This examples shows all of the basic principles in matching estimators that we will discuss in \n",
    "greater detail in this lecture. \n",
    "\n",
    "* Treatment and control subjects are matched together in the sense that they are grouped together \n",
    "into strata.\n",
    "\n",
    "* An average difference between the outcomes of the treatment and control subjects is estimated, \n",
    "based on a weighting of the strata by common distribution."
   ]
  },
  {
   "cell_type": "markdown",
   "metadata": {
    "pycharm": {},
    "slideshow": {
     "slide_type": "slide"
    }
   },
   "source": [
    "#### Overlap conditions"
   ]
  },
  {
   "cell_type": "code",
   "execution_count": 7,
   "metadata": {
    "pycharm": {},
    "slideshow": {
     "slide_type": "-"
    }
   },
   "outputs": [
    {
     "data": {
      "text/html": [
       "<div>\n",
       "<style scoped>\n",
       "    .dataframe tbody tr th:only-of-type {\n",
       "        vertical-align: middle;\n",
       "    }\n",
       "\n",
       "    .dataframe tbody tr th {\n",
       "        vertical-align: top;\n",
       "    }\n",
       "\n",
       "    .dataframe thead th {\n",
       "        text-align: right;\n",
       "    }\n",
       "</style>\n",
       "<table border=\"1\" class=\"dataframe\">\n",
       "  <thead>\n",
       "    <tr style=\"text-align: right;\">\n",
       "      <th></th>\n",
       "      <th>Y</th>\n",
       "      <th>D</th>\n",
       "      <th>S</th>\n",
       "    </tr>\n",
       "  </thead>\n",
       "  <tbody>\n",
       "    <tr>\n",
       "      <th>0</th>\n",
       "      <td>0.495446</td>\n",
       "      <td>0</td>\n",
       "      <td>1</td>\n",
       "    </tr>\n",
       "    <tr>\n",
       "      <th>1</th>\n",
       "      <td>7.495097</td>\n",
       "      <td>1</td>\n",
       "      <td>2</td>\n",
       "    </tr>\n",
       "    <tr>\n",
       "      <th>2</th>\n",
       "      <td>7.614248</td>\n",
       "      <td>1</td>\n",
       "      <td>2</td>\n",
       "    </tr>\n",
       "    <tr>\n",
       "      <th>3</th>\n",
       "      <td>5.407392</td>\n",
       "      <td>0</td>\n",
       "      <td>2</td>\n",
       "    </tr>\n",
       "    <tr>\n",
       "      <th>4</th>\n",
       "      <td>12.524174</td>\n",
       "      <td>1</td>\n",
       "      <td>3</td>\n",
       "    </tr>\n",
       "  </tbody>\n",
       "</table>\n",
       "</div>"
      ],
      "text/plain": [
       "           Y  D  S\n",
       "0   0.495446  0  1\n",
       "1   7.495097  1  2\n",
       "2   7.614248  1  2\n",
       "3   5.407392  0  2\n",
       "4  12.524174  1  3"
      ]
     },
     "execution_count": 7,
     "metadata": {},
     "output_type": "execute_result"
    }
   ],
   "source": [
    "df = get_sample_matching_demonstration_2(num_agents=1000)\n",
    "df[[\"Y\", \"D\", \"S\"]].head()"
   ]
  },
  {
   "cell_type": "code",
   "execution_count": 8,
   "metadata": {
    "pycharm": {},
    "slideshow": {
     "slide_type": "slide"
    }
   },
   "outputs": [
    {
     "data": {
      "text/plain": [
       "S  D\n",
       "1  0     2.097111\n",
       "2  0     6.028036\n",
       "   1     8.058439\n",
       "3  0     9.981168\n",
       "   1    14.023508\n",
       "Name: Y, dtype: float64"
      ]
     },
     "execution_count": 8,
     "metadata": {},
     "output_type": "execute_result"
    }
   ],
   "source": [
    "df.groupby([\"S\", \"D\"])[\"Y\"].mean()"
   ]
  },
  {
   "cell_type": "markdown",
   "metadata": {
    "pycharm": {},
    "slideshow": {
     "slide_type": "-"
    }
   },
   "source": [
    "Can we at least learn about the treatment on the treated? What else can we do?"
   ]
  },
  {
   "cell_type": "markdown",
   "metadata": {
    "pycharm": {},
    "slideshow": {
     "slide_type": "slide"
    }
   },
   "source": [
    "### Matching as weighting"
   ]
  },
  {
   "cell_type": "markdown",
   "metadata": {
    "pycharm": {},
    "slideshow": {
     "slide_type": "slide"
    }
   },
   "source": [
    "As indicated by the stylized example, there are often many strata where we do not have treated and control individuals available at the same time.\n",
    "\n",
    "$\\rightarrow$ combine information from different strata with the same propensity score $p$\n",
    "\n",
    "**Definition** The estimated propensity score is the estimated probability of taking the treatment as a function of variables that predict treatment assignment, i.e. $\\Pr[D = 1 \\mid S]$.\n",
    "\n",
    "$\\rightarrow$ stratifying on the propensity score itself ameliorates the sparseness problem because the propensity score can be treated as a single stratifying variable (Rosenbaum & Rubin (1983))."
   ]
  },
  {
   "cell_type": "code",
   "execution_count": 9,
   "metadata": {
    "pycharm": {},
    "slideshow": {
     "slide_type": "slide"
    }
   },
   "outputs": [
    {
     "data": {
      "text/html": [
       "<div>\n",
       "<style scoped>\n",
       "    .dataframe tbody tr th:only-of-type {\n",
       "        vertical-align: middle;\n",
       "    }\n",
       "\n",
       "    .dataframe tbody tr th {\n",
       "        vertical-align: top;\n",
       "    }\n",
       "\n",
       "    .dataframe thead th {\n",
       "        text-align: right;\n",
       "    }\n",
       "</style>\n",
       "<table border=\"1\" class=\"dataframe\">\n",
       "  <thead>\n",
       "    <tr style=\"text-align: right;\">\n",
       "      <th></th>\n",
       "      <th>a</th>\n",
       "      <th>b</th>\n",
       "      <th>d</th>\n",
       "      <th>y</th>\n",
       "      <th>y_1</th>\n",
       "      <th>y_0</th>\n",
       "      <th>p</th>\n",
       "    </tr>\n",
       "  </thead>\n",
       "  <tbody>\n",
       "    <tr>\n",
       "      <th>0</th>\n",
       "      <td>0.01</td>\n",
       "      <td>0.03</td>\n",
       "      <td>0</td>\n",
       "      <td>94.788634</td>\n",
       "      <td>102.807448</td>\n",
       "      <td>94.788634</td>\n",
       "      <td>0.332700</td>\n",
       "    </tr>\n",
       "    <tr>\n",
       "      <th>1</th>\n",
       "      <td>0.01</td>\n",
       "      <td>0.04</td>\n",
       "      <td>1</td>\n",
       "      <td>107.735609</td>\n",
       "      <td>107.735609</td>\n",
       "      <td>93.808018</td>\n",
       "      <td>0.334033</td>\n",
       "    </tr>\n",
       "    <tr>\n",
       "      <th>2</th>\n",
       "      <td>0.01</td>\n",
       "      <td>0.05</td>\n",
       "      <td>0</td>\n",
       "      <td>104.010898</td>\n",
       "      <td>97.937608</td>\n",
       "      <td>104.010898</td>\n",
       "      <td>0.335369</td>\n",
       "    </tr>\n",
       "    <tr>\n",
       "      <th>3</th>\n",
       "      <td>0.01</td>\n",
       "      <td>0.05</td>\n",
       "      <td>0</td>\n",
       "      <td>107.356485</td>\n",
       "      <td>98.919732</td>\n",
       "      <td>107.356485</td>\n",
       "      <td>0.335369</td>\n",
       "    </tr>\n",
       "    <tr>\n",
       "      <th>4</th>\n",
       "      <td>0.01</td>\n",
       "      <td>0.06</td>\n",
       "      <td>1</td>\n",
       "      <td>109.372171</td>\n",
       "      <td>109.372171</td>\n",
       "      <td>95.717052</td>\n",
       "      <td>0.336708</td>\n",
       "    </tr>\n",
       "  </tbody>\n",
       "</table>\n",
       "</div>"
      ],
      "text/plain": [
       "      a     b  d           y         y_1         y_0         p\n",
       "0  0.01  0.03  0   94.788634  102.807448   94.788634  0.332700\n",
       "1  0.01  0.04  1  107.735609  107.735609   93.808018  0.334033\n",
       "2  0.01  0.05  0  104.010898   97.937608  104.010898  0.335369\n",
       "3  0.01  0.05  0  107.356485   98.919732  107.356485  0.335369\n",
       "4  0.01  0.06  1  109.372171  109.372171   95.717052  0.336708"
      ]
     },
     "execution_count": 9,
     "metadata": {},
     "output_type": "execute_result"
    }
   ],
   "source": [
    "a_grid = np.linspace(0.01, 1.00, 100)\n",
    "b_grid = np.linspace(0.01, 1.00, 100)\n",
    "\n",
    "# We need to study some features of this function to\n",
    "# to get a sense on the underyling economics.\n",
    "df, counts = get_sample_matching_demonstration_3(a_grid, b_grid)\n",
    "df.head()"
   ]
  },
  {
   "cell_type": "markdown",
   "metadata": {
    "pycharm": {},
    "slideshow": {
     "slide_type": "slide"
    }
   },
   "source": [
    "**underlying causal graphs**\n",
    "\n",
    "<img src=\"material/fig-matching-demonstration-3.png\" width=\"500\" />\n",
    "\n",
    "We will now look at different ways to construct estimates for the usual causal parameters. So, we first compute their true counterparts."
   ]
  },
  {
   "cell_type": "code",
   "execution_count": 10,
   "metadata": {
    "pycharm": {},
    "slideshow": {
     "slide_type": "-"
    }
   },
   "outputs": [
    {
     "name": "stdout",
     "output_type": "stream",
     "text": [
      "ATE true:  4.397\n",
      "ATE naive: 4.846\n"
     ]
    }
   ],
   "source": [
    "stat = df[\"y_1\"].sub(df[\"y_0\"]).mean()\n",
    "print(f\"ATE true:  {stat:5.3f}\")\n",
    "\n",
    "stat = df.query(\"d == 1\")[\"y\"].mean() - df.query(\"d == 0\")[\"y\"].mean()\n",
    "print(f\"ATE naive: {stat:5.3f}\")"
   ]
  },
  {
   "cell_type": "markdown",
   "metadata": {},
   "source": [
    "Let's collect all effects in a dictionary for use further downstream."
   ]
  },
  {
   "cell_type": "code",
   "execution_count": 11,
   "metadata": {},
   "outputs": [],
   "source": [
    "true_effects = list()\n",
    "true_effects += [(df[\"y_1\"] - df[\"y_0\"])[(df[\"d\"] == 1)].mean()]\n",
    "true_effects += [(df[\"y_1\"] - df[\"y_0\"])[(df[\"d\"] == 0)].mean()]\n",
    "true_effects += [(df[\"y_1\"] - df[\"y_0\"]).mean()]"
   ]
  },
  {
   "cell_type": "markdown",
   "metadata": {
    "pycharm": {},
    "slideshow": {
     "slide_type": "slide"
    }
   },
   "source": [
    "How about the issue of sparsity on the data?"
   ]
  },
  {
   "cell_type": "code",
   "execution_count": 12,
   "metadata": {
    "pycharm": {},
    "slideshow": {
     "slide_type": "-"
    }
   },
   "outputs": [
    {
     "data": {
      "image/png": "[encoded data removed]",
      "text/plain": [
       "<Figure size 432x288 with 1 Axes>"
      ]
     },
     "metadata": {
      "needs_background": "light"
     },
     "output_type": "display_data"
    }
   ],
   "source": [
    "get_sparsity_pattern_overall(counts)"
   ]
  },
  {
   "cell_type": "code",
   "execution_count": 13,
   "metadata": {
    "pycharm": {},
    "slideshow": {
     "slide_type": "slide"
    }
   },
   "outputs": [
    {
     "data": {
      "image/png": "[encoded data removed]",
      "text/plain": [
       "<Figure size 432x288 with 2 Axes>"
      ]
     },
     "metadata": {
      "needs_background": "light"
     },
     "output_type": "display_data"
    }
   ],
   "source": [
    "get_sparsity_pattern_by_treatment(counts)"
   ]
  },
  {
   "cell_type": "markdown",
   "metadata": {
    "pycharm": {},
    "slideshow": {
     "slide_type": "slide"
    }
   },
   "source": [
    "How does the propensity score $P(D = 1\\mid S)$ as a function of the observables $(a, b)$ look like?"
   ]
  },
  {
   "cell_type": "code",
   "execution_count": 14,
   "metadata": {
    "pycharm": {},
    "slideshow": {
     "slide_type": "-"
    }
   },
   "outputs": [
    {
     "data": {
      "image/png": "[encoded data removed]",
      "text/plain": [
       "<Figure size 432x288 with 1 Axes>"
      ]
     },
     "metadata": {
      "needs_background": "light"
     },
     "output_type": "display_data"
    }
   ],
   "source": [
    "plot_propensity_score(a_grid, b_grid)"
   ]
  },
  {
   "cell_type": "markdown",
   "metadata": {
    "pycharm": {},
    "slideshow": {
     "slide_type": "slide"
    }
   },
   "source": [
    "We still must be worried about common support."
   ]
  },
  {
   "cell_type": "code",
   "execution_count": 15,
   "metadata": {
    "pycharm": {},
    "slideshow": {
     "slide_type": "-"
    }
   },
   "outputs": [
    {
     "data": {
      "image/png": "[encoded data removed]",
      "text/plain": [
       "<Figure size 432x288 with 1 Axes>"
      ]
     },
     "metadata": {
      "needs_background": "light"
     },
     "output_type": "display_data"
    }
   ],
   "source": [
    "get_common_support(df)"
   ]
  },
  {
   "cell_type": "markdown",
   "metadata": {
    "pycharm": {},
    "slideshow": {
     "slide_type": "slide"
    }
   },
   "source": [
    "\n",
    "\\begin{align*}\n",
    "\\hat{\\delta}_{\\text{ATT, weight}} \\equiv \\left( \\frac{1}{n^1}\\sum_{i:d_i = 1} y_i\\right) \n",
    "- \\left(\\frac{\\sum_{i:d_i=0}\\hat{r}_i y_i}{\\sum_{i:d_i = 0} \\hat{r}_i}\\right)\n",
    "\\end{align*}\n",
    "\n",
    "\\begin{align*}\n",
    "\\hat{\\delta}_{\\text{ATC, weight}} \\equiv \n",
    "\\left(\n",
    "\\frac{\\sum_{i: d_i = 1}\\frac{y_i}{\\hat{r}_i}}{\\sum_{i: d_i = 1}\\frac{1}{\\hat{r}_i}}\n",
    "\\right)\n",
    "- \\left(\\frac{1}{n^0} \\sum_{i: d_i = 0} y_i\\right) \n",
    "\\end{align*}\n",
    "\n",
    "\\begin{align*}\n",
    "\\hat{\\delta}_{\\text{ATE, weight}} \\equiv \\left(\\frac{1}{n}\\sum_{i}d_i\\right) \\hat{\\delta}_{\\text{ATT, weight}} +  \\left(1 - \\frac{1}{n}\\sum_{i}d_i\\right) \\hat{\\delta}_{\\text{ATC, weight}}\n",
    "\\end{align*}"
   ]
  },
  {
   "cell_type": "markdown",
   "metadata": {
    "pycharm": {},
    "slideshow": {
     "slide_type": "slide"
    }
   },
   "source": [
    "\n",
    "\n",
    "**Weights** \n",
    "\n",
    "\\begin{align*}\n",
    "r_i = \\frac{p_i}{1 - p_i}\n",
    "\\end{align*}"
   ]
  },
  {
   "cell_type": "code",
   "execution_count": 16,
   "metadata": {
    "pycharm": {},
    "slideshow": {
     "slide_type": "slide"
    }
   },
   "outputs": [
    {
     "data": {
      "image/png": "[encoded data removed]",
      "text/plain": [
       "<Figure size 432x288 with 1 Axes>"
      ]
     },
     "metadata": {
      "needs_background": "light"
     },
     "output_type": "display_data"
    }
   ],
   "source": [
    "plot_weights()"
   ]
  },
  {
   "cell_type": "markdown",
   "metadata": {},
   "source": [
    "We will now turn to some programming as it introduces you to the actual setup for the propensity score estimation and points towards the issues of potential model misspecification."
   ]
  },
  {
   "cell_type": "code",
   "execution_count": 17,
   "metadata": {
    "pycharm": {},
    "slideshow": {
     "slide_type": "slide"
    }
   },
   "outputs": [
    {
     "name": "stdout",
     "output_type": "stream",
     "text": [
      "\n",
      "True\n",
      "estimated: ATT 4.567 ATC 4.356 ATE 4.456\n",
      "true:      ATT 4.549 ATC 4.259 ATE 4.397\n",
      "\n",
      "Correct\n",
      "Optimization terminated successfully.\n",
      "         Current function value: 0.683753\n",
      "         Iterations 4\n",
      "estimated: ATT 4.557 ATC 4.349 ATE 4.448\n",
      "true:      ATT 4.549 ATC 4.259 ATE 4.397\n",
      "\n",
      "Misspecified\n",
      "Optimization terminated successfully.\n",
      "         Current function value: 0.683792\n",
      "         Iterations 4\n",
      "estimated: ATT 4.560 ATC 4.344 ATE 4.447\n",
      "true:      ATT 4.549 ATC 4.259 ATE 4.397\n"
     ]
    }
   ],
   "source": [
    "def get_att_weight(df, p):\n",
    "    \"\"\"Get weighted ATT.\n",
    "\n",
    "    Calculates the weighted ATT basd on a provided\n",
    "    dataset and the propensity score.\n",
    "\n",
    "    Args:\n",
    "        df: A dataframe with the observed data.\n",
    "        p: A numpy array with the weights.\n",
    "\n",
    "    Returns:\n",
    "        A float which corresponds to the ATT.\n",
    "    \"\"\"\n",
    "    weights = get_odds(p)\n",
    "\n",
    "    is_control = df[\"d\"] == 0\n",
    "    is_treated = df[\"d\"] == 1\n",
    "\n",
    "    value, weights = df[\"y\"][is_control], weights[is_control]\n",
    "    att = df[\"y\"][is_treated].mean() - np.average(value, weights=weights)\n",
    "\n",
    "    return att\n",
    "\n",
    "\n",
    "def get_atc_weight(df, p):\n",
    "    \"\"\"Get weighted ATC.\n",
    "\n",
    "    Calculates the weighted ATC basd on a provided\n",
    "    dataset and the propensity score.\n",
    "\n",
    "    Args:\n",
    "        df: A dataframe with the observed data.\n",
    "        p: A numpy array with the weights.\n",
    "\n",
    "    Returns:\n",
    "        A float which corresponds to the ATC.\n",
    "    \"\"\"\n",
    "    weights = get_inv_odds(p)\n",
    "\n",
    "    is_control = df[\"d\"] == 0\n",
    "    is_treated = df[\"d\"] == 1\n",
    "\n",
    "    value, weights = df[\"y\"][is_treated], weights[is_treated]\n",
    "    atc = np.average(value, weights=weights) - df[\"y\"][is_control].mean()\n",
    "\n",
    "    return atc\n",
    "\n",
    "\n",
    "def get_ate_weight(df, p):\n",
    "    \"\"\"Get weighted ATE.\n",
    "\n",
    "    Calculates the weighted ATE basd on a provided\n",
    "    dataset and the propensity score.\n",
    "\n",
    "    Args:\n",
    "        df: A dataframe with the observed data.\n",
    "        p: A numpy array with the weights.\n",
    "\n",
    "    Returns:\n",
    "        A float which corresponds to the ATE.\n",
    "    \"\"\"\n",
    "    share_treated = df[\"d\"].value_counts(normalize=True)[1]\n",
    "\n",
    "    atc = get_atc_weight(df, p)\n",
    "    att = get_att_weight(df, p)\n",
    "\n",
    "    return share_treated * att + (1.0 - share_treated) * atc\n",
    "\n",
    "\n",
    "rslt = dict()\n",
    "for model in [\"true\", \"correct\", \"misspecified\"]:\n",
    "\n",
    "    print(\"\")\n",
    "    print(model.capitalize())\n",
    "\n",
    "    p = get_propensity_score_3(df, model)\n",
    "\n",
    "    rslt[model] = list()\n",
    "    rslt[model] += [get_att_weight(df, p)]\n",
    "    rslt[model] += [get_atc_weight(df, p)]\n",
    "    rslt[model] += [get_ate_weight(df, p)]\n",
    "\n",
    "    print(\"estimated: ATT {:5.3f} ATC {:5.3f} ATE {:5.3f}\".format(*rslt[model]))\n",
    "    print(\"true:      ATT {:5.3f} ATC {:5.3f} ATE {:5.3f}\".format(*true_effects))"
   ]
  },
  {
   "cell_type": "markdown",
   "metadata": {},
   "source": [
    "If the treatment assignment can be modeled perfectly, one can solve the sparseness problem that afflict finite datasets. \n",
    "\n",
    "**Requirements**\n",
    "\n",
    "* perfect stratification of the propensity-score-estimating equation\n",
    "    \n",
    "    * capture all back-door paths\n",
    "    * misspecification of propensity score equation"
   ]
  },
  {
   "cell_type": "markdown",
   "metadata": {
    "slideshow": {
     "slide_type": "slide"
    }
   },
   "source": [
    "### Matching as data analysis algorithm"
   ]
  },
  {
   "cell_type": "markdown",
   "metadata": {
    "slideshow": {
     "slide_type": "slide"
    }
   },
   "source": [
    "\\begin{align*}\n",
    "\\hat{\\delta}_{\\text{ATT, match}} = \\frac{1}{n^1} \\sum_i \\left[(y_i \\mid d_i = 1) - \\sum_j \\omega_{i, j} (y_j \\mid d_j =0 )\\right]\n",
    "\\end{align*}\n",
    "\n",
    "\\begin{align*}\n",
    "\\hat{\\delta}_{\\text{ATC, match}} = \\frac{1}{n^0} \\sum_j \\left[\\sum_i \\omega_{j, i} (y_i\\mid d_i = 1) - (y_j \\mid d_j = 0)\\right]\n",
    "\\end{align*}\n",
    "\n",
    "Alternative matching estimators can be represented as different procedures for deriving the weights $\\omega_{i,j}$ and $\\omega_{j, i}$ in the two expressions above.\n",
    "\n",
    "**Design choices**\n",
    "\n",
    "* How many matched cases designated for each to-be-matched target?\n",
    "\n",
    "* How to weigh multiple matched cases if more than one is utilized for each target case?"
   ]
  },
  {
   "cell_type": "markdown",
   "metadata": {},
   "source": [
    "#### Basic variants"
   ]
  },
  {
   "cell_type": "markdown",
   "metadata": {},
   "source": [
    "* exact matching\n",
    "\n",
    "    * construct counterfactual based on individuals with identical $S$\n",
    "\n",
    "\n",
    "* nearest-neighbor and caliper\n",
    "\n",
    "    * construct counterfactual based on individuals closest on a unidimensional measure (e.g. propensity score), caliper ensures reasonable maximum distance\n",
    "\n",
    "* interval matching\n",
    "\n",
    "    * construct counterfactual by sorting individuals into segments based on unidimensional metric\n",
    "\n",
    "\n",
    "* kernel matching\n",
    "\n",
    "    * constructs counterfactual based on all individuals but weights them based on the distance"
   ]
  },
  {
   "cell_type": "markdown",
   "metadata": {
    "slideshow": {
     "slide_type": "slide"
    }
   },
   "source": [
    "#### Benchmarking tutorial"
   ]
  },
  {
   "cell_type": "markdown",
   "metadata": {},
   "source": [
    "We revisit a simulated version of the data used in Morgan (2001). He contributes to the debate over the size of the causal of effect of Catholic schooling on test scores. The dataset is provided by the textbook and also available in our online repository.\n",
    "\n",
    "**Issues**\n",
    "\n",
    "* What is the relative performance of alternative matching estimators?\n",
    "\n",
    "* What is the consequence of conditioning only on a subset of the variables in the set of perfect stratification variables $S$."
   ]
  },
  {
   "cell_type": "code",
   "execution_count": 18,
   "metadata": {
    "slideshow": {
     "slide_type": "-"
    }
   },
   "outputs": [
    {
     "data": {
      "text/html": [
       "<div>\n",
       "<style scoped>\n",
       "    .dataframe tbody tr th:only-of-type {\n",
       "        vertical-align: middle;\n",
       "    }\n",
       "\n",
       "    .dataframe tbody tr th {\n",
       "        vertical-align: top;\n",
       "    }\n",
       "\n",
       "    .dataframe thead th {\n",
       "        text-align: right;\n",
       "    }\n",
       "</style>\n",
       "<table border=\"1\" class=\"dataframe\">\n",
       "  <thead>\n",
       "    <tr style=\"text-align: right;\">\n",
       "      <th></th>\n",
       "      <th>y</th>\n",
       "      <th>treat</th>\n",
       "      <th>asian</th>\n",
       "      <th>hispanic</th>\n",
       "      <th>black</th>\n",
       "      <th>natamer</th>\n",
       "      <th>urban</th>\n",
       "      <th>neast</th>\n",
       "      <th>ncentral</th>\n",
       "      <th>south</th>\n",
       "      <th>...</th>\n",
       "      <th>ncentralblack</th>\n",
       "      <th>southblack</th>\n",
       "      <th>twohisp</th>\n",
       "      <th>neasthisp</th>\n",
       "      <th>ncentralhisp</th>\n",
       "      <th>southhisp</th>\n",
       "      <th>yt</th>\n",
       "      <th>yc</th>\n",
       "      <th>dshock</th>\n",
       "      <th>d</th>\n",
       "    </tr>\n",
       "  </thead>\n",
       "  <tbody>\n",
       "    <tr>\n",
       "      <th>count</th>\n",
       "      <td>10000.000000</td>\n",
       "      <td>10000.000000</td>\n",
       "      <td>10000.000000</td>\n",
       "      <td>10000.000000</td>\n",
       "      <td>10000.000000</td>\n",
       "      <td>10000.000000</td>\n",
       "      <td>10000.00000</td>\n",
       "      <td>10000.000000</td>\n",
       "      <td>10000.000000</td>\n",
       "      <td>10000.000000</td>\n",
       "      <td>...</td>\n",
       "      <td>10000.000000</td>\n",
       "      <td>10000.000000</td>\n",
       "      <td>10000.000000</td>\n",
       "      <td>10000.000000</td>\n",
       "      <td>10000.000000</td>\n",
       "      <td>10000.00000</td>\n",
       "      <td>10000.000000</td>\n",
       "      <td>10000.000000</td>\n",
       "      <td>1.000000e+04</td>\n",
       "      <td>10000.000000</td>\n",
       "    </tr>\n",
       "    <tr>\n",
       "      <th>mean</th>\n",
       "      <td>100.459241</td>\n",
       "      <td>0.105200</td>\n",
       "      <td>0.089800</td>\n",
       "      <td>0.143300</td>\n",
       "      <td>0.096100</td>\n",
       "      <td>0.007500</td>\n",
       "      <td>0.38910</td>\n",
       "      <td>0.208100</td>\n",
       "      <td>0.264000</td>\n",
       "      <td>0.302200</td>\n",
       "      <td>...</td>\n",
       "      <td>0.018200</td>\n",
       "      <td>0.050500</td>\n",
       "      <td>0.102100</td>\n",
       "      <td>0.016000</td>\n",
       "      <td>0.014900</td>\n",
       "      <td>0.05590</td>\n",
       "      <td>105.729319</td>\n",
       "      <td>99.727395</td>\n",
       "      <td>9.947598e-18</td>\n",
       "      <td>6.001924</td>\n",
       "    </tr>\n",
       "    <tr>\n",
       "      <th>std</th>\n",
       "      <td>13.493304</td>\n",
       "      <td>0.306826</td>\n",
       "      <td>0.285909</td>\n",
       "      <td>0.350396</td>\n",
       "      <td>0.294743</td>\n",
       "      <td>0.086281</td>\n",
       "      <td>0.48757</td>\n",
       "      <td>0.405969</td>\n",
       "      <td>0.440821</td>\n",
       "      <td>0.459234</td>\n",
       "      <td>...</td>\n",
       "      <td>0.133681</td>\n",
       "      <td>0.218985</td>\n",
       "      <td>0.302795</td>\n",
       "      <td>0.125481</td>\n",
       "      <td>0.121159</td>\n",
       "      <td>0.22974</td>\n",
       "      <td>13.525777</td>\n",
       "      <td>13.202781</td>\n",
       "      <td>2.088954e+00</td>\n",
       "      <td>2.146356</td>\n",
       "    </tr>\n",
       "    <tr>\n",
       "      <th>min</th>\n",
       "      <td>50.065298</td>\n",
       "      <td>0.000000</td>\n",
       "      <td>0.000000</td>\n",
       "      <td>0.000000</td>\n",
       "      <td>0.000000</td>\n",
       "      <td>0.000000</td>\n",
       "      <td>0.00000</td>\n",
       "      <td>0.000000</td>\n",
       "      <td>0.000000</td>\n",
       "      <td>0.000000</td>\n",
       "      <td>...</td>\n",
       "      <td>0.000000</td>\n",
       "      <td>0.000000</td>\n",
       "      <td>0.000000</td>\n",
       "      <td>0.000000</td>\n",
       "      <td>0.000000</td>\n",
       "      <td>0.00000</td>\n",
       "      <td>54.788152</td>\n",
       "      <td>50.065298</td>\n",
       "      <td>-7.765338e+00</td>\n",
       "      <td>-2.142958</td>\n",
       "    </tr>\n",
       "    <tr>\n",
       "      <th>25%</th>\n",
       "      <td>91.519660</td>\n",
       "      <td>0.000000</td>\n",
       "      <td>0.000000</td>\n",
       "      <td>0.000000</td>\n",
       "      <td>0.000000</td>\n",
       "      <td>0.000000</td>\n",
       "      <td>0.00000</td>\n",
       "      <td>0.000000</td>\n",
       "      <td>0.000000</td>\n",
       "      <td>0.000000</td>\n",
       "      <td>...</td>\n",
       "      <td>0.000000</td>\n",
       "      <td>0.000000</td>\n",
       "      <td>0.000000</td>\n",
       "      <td>0.000000</td>\n",
       "      <td>0.000000</td>\n",
       "      <td>0.00000</td>\n",
       "      <td>96.848440</td>\n",
       "      <td>91.025084</td>\n",
       "      <td>-1.386373e+00</td>\n",
       "      <td>4.587783</td>\n",
       "    </tr>\n",
       "    <tr>\n",
       "      <th>50%</th>\n",
       "      <td>100.303288</td>\n",
       "      <td>0.000000</td>\n",
       "      <td>0.000000</td>\n",
       "      <td>0.000000</td>\n",
       "      <td>0.000000</td>\n",
       "      <td>0.000000</td>\n",
       "      <td>0.00000</td>\n",
       "      <td>0.000000</td>\n",
       "      <td>0.000000</td>\n",
       "      <td>0.000000</td>\n",
       "      <td>...</td>\n",
       "      <td>0.000000</td>\n",
       "      <td>0.000000</td>\n",
       "      <td>0.000000</td>\n",
       "      <td>0.000000</td>\n",
       "      <td>0.000000</td>\n",
       "      <td>0.00000</td>\n",
       "      <td>105.712292</td>\n",
       "      <td>99.685598</td>\n",
       "      <td>1.763749e-02</td>\n",
       "      <td>6.010071</td>\n",
       "    </tr>\n",
       "    <tr>\n",
       "      <th>75%</th>\n",
       "      <td>109.459337</td>\n",
       "      <td>0.000000</td>\n",
       "      <td>0.000000</td>\n",
       "      <td>0.000000</td>\n",
       "      <td>0.000000</td>\n",
       "      <td>0.000000</td>\n",
       "      <td>1.00000</td>\n",
       "      <td>0.000000</td>\n",
       "      <td>1.000000</td>\n",
       "      <td>1.000000</td>\n",
       "      <td>...</td>\n",
       "      <td>0.000000</td>\n",
       "      <td>0.000000</td>\n",
       "      <td>0.000000</td>\n",
       "      <td>0.000000</td>\n",
       "      <td>0.000000</td>\n",
       "      <td>0.00000</td>\n",
       "      <td>114.828609</td>\n",
       "      <td>108.607459</td>\n",
       "      <td>1.391807e+00</td>\n",
       "      <td>7.438161</td>\n",
       "    </tr>\n",
       "    <tr>\n",
       "      <th>max</th>\n",
       "      <td>159.426572</td>\n",
       "      <td>1.000000</td>\n",
       "      <td>1.000000</td>\n",
       "      <td>1.000000</td>\n",
       "      <td>1.000000</td>\n",
       "      <td>1.000000</td>\n",
       "      <td>1.00000</td>\n",
       "      <td>1.000000</td>\n",
       "      <td>1.000000</td>\n",
       "      <td>1.000000</td>\n",
       "      <td>...</td>\n",
       "      <td>1.000000</td>\n",
       "      <td>1.000000</td>\n",
       "      <td>1.000000</td>\n",
       "      <td>1.000000</td>\n",
       "      <td>1.000000</td>\n",
       "      <td>1.00000</td>\n",
       "      <td>159.790235</td>\n",
       "      <td>151.442150</td>\n",
       "      <td>8.432203e+00</td>\n",
       "      <td>14.653340</td>\n",
       "    </tr>\n",
       "  </tbody>\n",
       "</table>\n",
       "<p>8 rows × 30 columns</p>\n",
       "</div>"
      ],
      "text/plain": [
       "                  y         treat         asian      hispanic         black  \\\n",
       "count  10000.000000  10000.000000  10000.000000  10000.000000  10000.000000   \n",
       "mean     100.459241      0.105200      0.089800      0.143300      0.096100   \n",
       "std       13.493304      0.306826      0.285909      0.350396      0.294743   \n",
       "min       50.065298      0.000000      0.000000      0.000000      0.000000   \n",
       "25%       91.519660      0.000000      0.000000      0.000000      0.000000   \n",
       "50%      100.303288      0.000000      0.000000      0.000000      0.000000   \n",
       "75%      109.459337      0.000000      0.000000      0.000000      0.000000   \n",
       "max      159.426572      1.000000      1.000000      1.000000      1.000000   \n",
       "\n",
       "            natamer        urban         neast      ncentral         south  \\\n",
       "count  10000.000000  10000.00000  10000.000000  10000.000000  10000.000000   \n",
       "mean       0.007500      0.38910      0.208100      0.264000      0.302200   \n",
       "std        0.086281      0.48757      0.405969      0.440821      0.459234   \n",
       "min        0.000000      0.00000      0.000000      0.000000      0.000000   \n",
       "25%        0.000000      0.00000      0.000000      0.000000      0.000000   \n",
       "50%        0.000000      0.00000      0.000000      0.000000      0.000000   \n",
       "75%        0.000000      1.00000      0.000000      1.000000      1.000000   \n",
       "max        1.000000      1.00000      1.000000      1.000000      1.000000   \n",
       "\n",
       "       ...  ncentralblack    southblack       twohisp     neasthisp  \\\n",
       "count  ...   10000.000000  10000.000000  10000.000000  10000.000000   \n",
       "mean   ...       0.018200      0.050500      0.102100      0.016000   \n",
       "std    ...       0.133681      0.218985      0.302795      0.125481   \n",
       "min    ...       0.000000      0.000000      0.000000      0.000000   \n",
       "25%    ...       0.000000      0.000000      0.000000      0.000000   \n",
       "50%    ...       0.000000      0.000000      0.000000      0.000000   \n",
       "75%    ...       0.000000      0.000000      0.000000      0.000000   \n",
       "max    ...       1.000000      1.000000      1.000000      1.000000   \n",
       "\n",
       "       ncentralhisp    southhisp            yt            yc        dshock  \\\n",
       "count  10000.000000  10000.00000  10000.000000  10000.000000  1.000000e+04   \n",
       "mean       0.014900      0.05590    105.729319     99.727395  9.947598e-18   \n",
       "std        0.121159      0.22974     13.525777     13.202781  2.088954e+00   \n",
       "min        0.000000      0.00000     54.788152     50.065298 -7.765338e+00   \n",
       "25%        0.000000      0.00000     96.848440     91.025084 -1.386373e+00   \n",
       "50%        0.000000      0.00000    105.712292     99.685598  1.763749e-02   \n",
       "75%        0.000000      0.00000    114.828609    108.607459  1.391807e+00   \n",
       "max        1.000000      1.00000    159.790235    151.442150  8.432203e+00   \n",
       "\n",
       "                  d  \n",
       "count  10000.000000  \n",
       "mean       6.001924  \n",
       "std        2.146356  \n",
       "min       -2.142958  \n",
       "25%        4.587783  \n",
       "50%        6.010071  \n",
       "75%        7.438161  \n",
       "max       14.653340  \n",
       "\n",
       "[8 rows x 30 columns]"
      ]
     },
     "execution_count": 18,
     "metadata": {},
     "output_type": "execute_result"
    }
   ],
   "source": [
    "df = get_sample_matching_demonstration_4()\n",
    "df.describe()"
   ]
  },
  {
   "cell_type": "markdown",
   "metadata": {},
   "source": [
    "Let us look at some example covariates."
   ]
  },
  {
   "cell_type": "code",
   "execution_count": 19,
   "metadata": {
    "slideshow": {
     "slide_type": "slide"
    }
   },
   "outputs": [
    {
     "data": {
      "text/html": [
       "<div>\n",
       "<style scoped>\n",
       "    .dataframe tbody tr th:only-of-type {\n",
       "        vertical-align: middle;\n",
       "    }\n",
       "\n",
       "    .dataframe tbody tr th {\n",
       "        vertical-align: top;\n",
       "    }\n",
       "\n",
       "    .dataframe thead th {\n",
       "        text-align: right;\n",
       "    }\n",
       "</style>\n",
       "<table border=\"1\" class=\"dataframe\">\n",
       "  <thead>\n",
       "    <tr style=\"text-align: right;\">\n",
       "      <th></th>\n",
       "      <th>black</th>\n",
       "      <th>urban</th>\n",
       "      <th>test</th>\n",
       "    </tr>\n",
       "  </thead>\n",
       "  <tbody>\n",
       "    <tr>\n",
       "      <th>count</th>\n",
       "      <td>10000.000000</td>\n",
       "      <td>10000.00000</td>\n",
       "      <td>10000.000000</td>\n",
       "    </tr>\n",
       "    <tr>\n",
       "      <th>mean</th>\n",
       "      <td>0.096100</td>\n",
       "      <td>0.38910</td>\n",
       "      <td>-0.002229</td>\n",
       "    </tr>\n",
       "    <tr>\n",
       "      <th>std</th>\n",
       "      <td>0.294743</td>\n",
       "      <td>0.48757</td>\n",
       "      <td>0.991747</td>\n",
       "    </tr>\n",
       "    <tr>\n",
       "      <th>min</th>\n",
       "      <td>0.000000</td>\n",
       "      <td>0.00000</td>\n",
       "      <td>-3.862709</td>\n",
       "    </tr>\n",
       "    <tr>\n",
       "      <th>25%</th>\n",
       "      <td>0.000000</td>\n",
       "      <td>0.00000</td>\n",
       "      <td>-0.676463</td>\n",
       "    </tr>\n",
       "    <tr>\n",
       "      <th>50%</th>\n",
       "      <td>0.000000</td>\n",
       "      <td>0.00000</td>\n",
       "      <td>-0.006683</td>\n",
       "    </tr>\n",
       "    <tr>\n",
       "      <th>75%</th>\n",
       "      <td>0.000000</td>\n",
       "      <td>1.00000</td>\n",
       "      <td>0.660488</td>\n",
       "    </tr>\n",
       "    <tr>\n",
       "      <th>max</th>\n",
       "      <td>1.000000</td>\n",
       "      <td>1.00000</td>\n",
       "      <td>3.722783</td>\n",
       "    </tr>\n",
       "  </tbody>\n",
       "</table>\n",
       "</div>"
      ],
      "text/plain": [
       "              black        urban          test\n",
       "count  10000.000000  10000.00000  10000.000000\n",
       "mean       0.096100      0.38910     -0.002229\n",
       "std        0.294743      0.48757      0.991747\n",
       "min        0.000000      0.00000     -3.862709\n",
       "25%        0.000000      0.00000     -0.676463\n",
       "50%        0.000000      0.00000     -0.006683\n",
       "75%        0.000000      1.00000      0.660488\n",
       "max        1.000000      1.00000      3.722783"
      ]
     },
     "execution_count": 19,
     "metadata": {},
     "output_type": "execute_result"
    }
   ],
   "source": [
    "example_covariates = [\"black\", \"urban\", \"test\"]\n",
    "df[example_covariates].describe()"
   ]
  },
  {
   "cell_type": "code",
   "execution_count": 20,
   "metadata": {
    "slideshow": {
     "slide_type": "slide"
    }
   },
   "outputs": [
    {
     "data": {
      "text/plain": [
       "<matplotlib.axes._subplots.AxesSubplot at 0x7f47eade72d0>"
      ]
     },
     "execution_count": 20,
     "metadata": {},
     "output_type": "execute_result"
    },
    {
     "data": {
      "image/png": "[encoded data removed]",
      "text/plain": [
       "<Figure size 432x288 with 1 Axes>"
      ]
     },
     "metadata": {
      "needs_background": "light"
     },
     "output_type": "display_data"
    }
   ],
   "source": [
    "sns.countplot(x=\"treat\", data=df)"
   ]
  },
  {
   "cell_type": "markdown",
   "metadata": {
    "slideshow": {
     "slide_type": "slide"
    }
   },
   "source": [
    "<img src=\"material/fig-catholic-school-example.png\" width=\"500\" />\n",
    "\n",
    "Is there any hope in identifying the $ATE$?\n",
    "\n",
    "<img src=\"material/fig-matching-demonstration-four-potential-outcome.png\" width=\"500\" />\n",
    "\n",
    "<img src=\"material/fig-matching-demonstration-four-propensity-score.png\" width=\"500\" />\n",
    "\n",
    "There exists systematic treatment effect heterogeneity:\n",
    "\n",
    "<img src=\"material/fig-treatment-effect-heterogeneity.png\" width=\"500\" />\n",
    "\n",
    "\n",
    "Here comes the key feature that generates the dependence between $D$ and $Y$ based on an unobservable.\n",
    "\n",
    "\\begin{align*}\n",
    "y_i^1 = y_i^0 + \\delta^\\prime_i + \\delta^{\\prime\\prime}_i\n",
    "\\end{align*}\n",
    "\n",
    "$\\rightarrow$ $\\delta^{\\prime\\prime}_i$ is a associated with one of the potential outcomes and also affects the probability to select treatment.\n",
    "\n",
    "However, we can still identify the $ATT$. Why?\n",
    "\n",
    "\\begin{align*}\n",
    "E[\\delta \\mid D = 1, S] & = E[Y^1 - Y^0 \\mid D = 1, S] \\\\\n",
    "& = E[Y^1 \\mid D = 1, S] - E[Y^0 \\mid D = 1, S] \\\\\n",
    "& = E[Y^1 \\mid D = 1, S] - E[Y^0 \\mid D = 0, S] \\\\\n",
    "& = E[Y \\mid D = 1, S] - E[Y \\mid D = 0, S] \\\\\n",
    "\\end{align*}\n",
    "\n",
    "We establish a clear benchmark by looking at the true treatment effect."
   ]
  },
  {
   "cell_type": "code",
   "execution_count": 21,
   "metadata": {
    "slideshow": {
     "slide_type": "-"
    }
   },
   "outputs": [
    {
     "name": "stdout",
     "output_type": "stream",
     "text": [
      "The true ATT is 6.957\n"
     ]
    }
   ],
   "source": [
    "stat = (df[\"yt\"] - df[\"yc\"])[df[\"treat\"] == 1].mean()\n",
    "print(f\"The true ATT is {stat:5.3f}\")"
   ]
  },
  {
   "cell_type": "markdown",
   "metadata": {},
   "source": [
    "How are doing with respect to common support for the propensity score?"
   ]
  },
  {
   "cell_type": "code",
   "execution_count": 32,
   "metadata": {},
   "outputs": [
    {
     "name": "stdout",
     "output_type": "stream",
     "text": [
      "Optimization terminated successfully.\n",
      "         Current function value: 0.252643\n",
      "         Iterations 8\n"
     ]
    },
    {
     "data": {
      "image/png": "[encoded data removed]",
      "text/plain": [
       "<Figure size 432x288 with 1 Axes>"
      ]
     },
     "metadata": {
      "needs_background": "light"
     },
     "output_type": "display_data"
    }
   ],
   "source": [
    "df = get_sample_matching_demonstration_4()\n",
    "df[\"p\"] = get_propensity_scores_matching_demonstration_4(df)\n",
    "get_common_support(df, \"treat\")"
   ]
  },
  {
   "cell_type": "markdown",
   "metadata": {},
   "source": [
    "Now we implement our own nearest neighbor matching routine."
   ]
  },
  {
   "cell_type": "code",
   "execution_count": 31,
   "metadata": {
    "slideshow": {
     "slide_type": "slide"
    }
   },
   "outputs": [],
   "source": [
    "def nearest_neighbor_algorithm_for_att(df, check_store=True):\n",
    "\n",
    "    if check_store:\n",
    "        if os.path.exists(\"matched.ngbr.pkl\"):\n",
    "            return pkl.load(open(\"matched.ngbr.pkl\", \"rb\"))\n",
    "\n",
    "    # We select all treated individuals\n",
    "    df_control = df[df[\"treat\"] == 0]\n",
    "    df_treated = df[df[\"treat\"] == 1]\n",
    "\n",
    "    rslt = np.full((df_treated.shape[0], 11), np.nan)\n",
    "\n",
    "    # We want to store the information about the nearest neighbor.\n",
    "    idx_list = list()\n",
    "\n",
    "    # We now iterate over all treated individuals and\n",
    "    # find a set of neighbors.\n",
    "    for i, (index, row) in enumerate(df_treated.iterrows()):\n",
    "\n",
    "        y, p, b, u, t = row[[\"y\", \"p\", \"black\", \"urban\", \"test\"]]\n",
    "        df_control = df_control.assign(distance=np.abs(df_control[\"p\"] - p))\n",
    "\n",
    "        idx_ngbr = df_control[\"distance\"].idxmin()\n",
    "        idx_list.append(idx_ngbr)\n",
    "        y_ngbr, p_ngbr = df_control.loc[idx_ngbr, [\"y\", \"p\"]]\n",
    "        b_ngbr, u_ngbr = df_control.loc[idx_ngbr, [\"black\", \"urban\"]]\n",
    "        t_ngbr = df_control.loc[idx_ngbr, [\"test\"]]\n",
    "\n",
    "        rslt[i] = [i, y, y_ngbr, p, p_ngbr, b, b_ngbr, u, u_ngbr, t, t_ngbr]\n",
    "\n",
    "    columns = [\"count\", \"y\", \"y_ngbr\", \"p\", \"p_ngbr\", \"b\", \"b_ngbr\"]\n",
    "    columns += [\"u\", \"u_ngbr\", \"t\", \"t_ngbr\"]\n",
    "    df = pd.DataFrame(rslt, columns=columns)\n",
    "\n",
    "    pkl.dump(df, open(\"matched.ngbr.pkl\", \"wb\"))\n",
    "\n",
    "    return df, pd.Series(idx_list)"
   ]
  },
  {
   "cell_type": "markdown",
   "metadata": {},
   "source": [
    "Let's put our algorithm to work!"
   ]
  },
  {
   "cell_type": "code",
   "execution_count": 23,
   "metadata": {
    "slideshow": {
     "slide_type": "slide"
    }
   },
   "outputs": [],
   "source": [
    "df_matched, idx_series = nearest_neighbor_algorithm_for_att(df, False)"
   ]
  },
  {
   "cell_type": "markdown",
   "metadata": {},
   "source": [
    "How well are we able to match individuals based on their propensity score? How does earnings compare between matched individuals?"
   ]
  },
  {
   "cell_type": "code",
   "execution_count": 34,
   "metadata": {
    "slideshow": {
     "slide_type": "slide"
    }
   },
   "outputs": [
    {
     "data": {
      "text/plain": [
       "<seaborn.axisgrid.JointGrid at 0x7f47eed89b10>"
      ]
     },
     "execution_count": 34,
     "metadata": {},
     "output_type": "execute_result"
    },
    {
     "data": {
      "image/png": "[encoded data removed]",
      "text/plain": [
       "<Figure size 432x432 with 3 Axes>"
      ]
     },
     "metadata": {
      "needs_background": "light"
     },
     "output_type": "display_data"
    }
   ],
   "source": [
    "sns.jointplot(\"p\", \"p_ngbr\", df_matched, xlim=[0, 1], ylim=[0, 1])"
   ]
  },
  {
   "cell_type": "code",
   "execution_count": 39,
   "metadata": {
    "slideshow": {
     "slide_type": "slide"
    }
   },
   "outputs": [
    {
     "data": {
      "text/plain": [
       "<seaborn.axisgrid.JointGrid at 0x7f47ec6b8850>"
      ]
     },
     "execution_count": 39,
     "metadata": {},
     "output_type": "execute_result"
    },
    {
     "data": {
      "image/png": "[encoded data removed]",
      "text/plain": [
       "<Figure size 432x432 with 3 Axes>"
      ]
     },
     "metadata": {
      "needs_background": "light"
     },
     "output_type": "display_data"
    }
   ],
   "source": [
    "sns.jointplot(\"y\", \"y_ngbr\", df_matched, xlim=[70, 140], ylim=[70, 140])"
   ]
  },
  {
   "cell_type": "markdown",
   "metadata": {},
   "source": [
    "After all this effort, what is our treatment effect estimate?"
   ]
  },
  {
   "cell_type": "code",
   "execution_count": 68,
   "metadata": {},
   "outputs": [
    {
     "name": "stdout",
     "output_type": "stream",
     "text": [
      "Here is our estimate for the treatment effect: 7.236\n"
     ]
    }
   ],
   "source": [
    "stat = (df_matched[\"y\"] - df_matched[\"y_ngbr\"]).mean()\n",
    "print(f\"Here is our estimate for the treatment effect: {stat:5.3f}\")"
   ]
  },
  {
   "cell_type": "markdown",
   "metadata": {},
   "source": [
    "How often do we match the same individual?"
   ]
  },
  {
   "cell_type": "code",
   "execution_count": 58,
   "metadata": {},
   "outputs": [
    {
     "data": {
      "text/plain": [
       "1394    13\n",
       "1992    11\n",
       "1223    11\n",
       "2016    10\n",
       "4121     6\n",
       "        ..\n",
       "7486     1\n",
       "3389     1\n",
       "3388     1\n",
       "7482     1\n",
       "1164     1\n",
       "Length: 790, dtype: int64"
      ]
     },
     "execution_count": 58,
     "metadata": {},
     "output_type": "execute_result"
    }
   ],
   "source": [
    "idx_series.value_counts()"
   ]
  },
  {
   "cell_type": "markdown",
   "metadata": {},
   "source": [
    "Who do we match for 14 times?!"
   ]
  },
  {
   "cell_type": "code",
   "execution_count": 63,
   "metadata": {},
   "outputs": [
    {
     "data": {
      "text/html": [
       "<div>\n",
       "<style scoped>\n",
       "    .dataframe tbody tr th:only-of-type {\n",
       "        vertical-align: middle;\n",
       "    }\n",
       "\n",
       "    .dataframe tbody tr th {\n",
       "        vertical-align: top;\n",
       "    }\n",
       "\n",
       "    .dataframe thead th {\n",
       "        text-align: right;\n",
       "    }\n",
       "</style>\n",
       "<table border=\"1\" class=\"dataframe\">\n",
       "  <thead>\n",
       "    <tr style=\"text-align: right;\">\n",
       "      <th></th>\n",
       "      <th>1394</th>\n",
       "    </tr>\n",
       "  </thead>\n",
       "  <tbody>\n",
       "    <tr>\n",
       "      <th>y</th>\n",
       "      <td>107.734632</td>\n",
       "    </tr>\n",
       "    <tr>\n",
       "      <th>treat</th>\n",
       "      <td>0.000000</td>\n",
       "    </tr>\n",
       "    <tr>\n",
       "      <th>asian</th>\n",
       "      <td>0.000000</td>\n",
       "    </tr>\n",
       "    <tr>\n",
       "      <th>hispanic</th>\n",
       "      <td>0.000000</td>\n",
       "    </tr>\n",
       "    <tr>\n",
       "      <th>black</th>\n",
       "      <td>0.000000</td>\n",
       "    </tr>\n",
       "    <tr>\n",
       "      <th>natamer</th>\n",
       "      <td>0.000000</td>\n",
       "    </tr>\n",
       "    <tr>\n",
       "      <th>urban</th>\n",
       "      <td>1.000000</td>\n",
       "    </tr>\n",
       "    <tr>\n",
       "      <th>neast</th>\n",
       "      <td>1.000000</td>\n",
       "    </tr>\n",
       "    <tr>\n",
       "      <th>ncentral</th>\n",
       "      <td>0.000000</td>\n",
       "    </tr>\n",
       "    <tr>\n",
       "      <th>south</th>\n",
       "      <td>0.000000</td>\n",
       "    </tr>\n",
       "    <tr>\n",
       "      <th>sibs</th>\n",
       "      <td>2.000000</td>\n",
       "    </tr>\n",
       "    <tr>\n",
       "      <th>bedroom</th>\n",
       "      <td>1.000000</td>\n",
       "    </tr>\n",
       "    <tr>\n",
       "      <th>twoparent</th>\n",
       "      <td>1.000000</td>\n",
       "    </tr>\n",
       "    <tr>\n",
       "      <th>ses</th>\n",
       "      <td>2.062742</td>\n",
       "    </tr>\n",
       "    <tr>\n",
       "      <th>test</th>\n",
       "      <td>0.818535</td>\n",
       "    </tr>\n",
       "    <tr>\n",
       "      <th>sessq</th>\n",
       "      <td>4.254905</td>\n",
       "    </tr>\n",
       "    <tr>\n",
       "      <th>testsq</th>\n",
       "      <td>0.669999</td>\n",
       "    </tr>\n",
       "    <tr>\n",
       "      <th>sestest</th>\n",
       "      <td>1.688426</td>\n",
       "    </tr>\n",
       "    <tr>\n",
       "      <th>twoblack</th>\n",
       "      <td>0.000000</td>\n",
       "    </tr>\n",
       "    <tr>\n",
       "      <th>neastblack</th>\n",
       "      <td>0.000000</td>\n",
       "    </tr>\n",
       "    <tr>\n",
       "      <th>ncentralblack</th>\n",
       "      <td>0.000000</td>\n",
       "    </tr>\n",
       "    <tr>\n",
       "      <th>southblack</th>\n",
       "      <td>0.000000</td>\n",
       "    </tr>\n",
       "    <tr>\n",
       "      <th>twohisp</th>\n",
       "      <td>0.000000</td>\n",
       "    </tr>\n",
       "    <tr>\n",
       "      <th>neasthisp</th>\n",
       "      <td>0.000000</td>\n",
       "    </tr>\n",
       "    <tr>\n",
       "      <th>ncentralhisp</th>\n",
       "      <td>0.000000</td>\n",
       "    </tr>\n",
       "    <tr>\n",
       "      <th>southhisp</th>\n",
       "      <td>0.000000</td>\n",
       "    </tr>\n",
       "    <tr>\n",
       "      <th>yt</th>\n",
       "      <td>114.962304</td>\n",
       "    </tr>\n",
       "    <tr>\n",
       "      <th>yc</th>\n",
       "      <td>107.734632</td>\n",
       "    </tr>\n",
       "    <tr>\n",
       "      <th>dshock</th>\n",
       "      <td>1.017638</td>\n",
       "    </tr>\n",
       "    <tr>\n",
       "      <th>d</th>\n",
       "      <td>7.227672</td>\n",
       "    </tr>\n",
       "    <tr>\n",
       "      <th>p</th>\n",
       "      <td>0.624739</td>\n",
       "    </tr>\n",
       "  </tbody>\n",
       "</table>\n",
       "</div>"
      ],
      "text/plain": [
       "                     1394\n",
       "y              107.734632\n",
       "treat            0.000000\n",
       "asian            0.000000\n",
       "hispanic         0.000000\n",
       "black            0.000000\n",
       "natamer          0.000000\n",
       "urban            1.000000\n",
       "neast            1.000000\n",
       "ncentral         0.000000\n",
       "south            0.000000\n",
       "sibs             2.000000\n",
       "bedroom          1.000000\n",
       "twoparent        1.000000\n",
       "ses              2.062742\n",
       "test             0.818535\n",
       "sessq            4.254905\n",
       "testsq           0.669999\n",
       "sestest          1.688426\n",
       "twoblack         0.000000\n",
       "neastblack       0.000000\n",
       "ncentralblack    0.000000\n",
       "southblack       0.000000\n",
       "twohisp          0.000000\n",
       "neasthisp        0.000000\n",
       "ncentralhisp     0.000000\n",
       "southhisp        0.000000\n",
       "yt             114.962304\n",
       "yc             107.734632\n",
       "dshock           1.017638\n",
       "d                7.227672\n",
       "p                0.624739"
      ]
     },
     "execution_count": 63,
     "metadata": {},
     "output_type": "execute_result"
    }
   ],
   "source": [
    "idx = idx_series.value_counts().idxmax()\n",
    "pd.DataFrame(df[df[\"treat\"] == 0].loc[idx])"
   ]
  },
  {
   "cell_type": "markdown",
   "metadata": {},
   "source": [
    "How do our covariantes balance across treatment status?"
   ]
  },
  {
   "cell_type": "code",
   "execution_count": 27,
   "metadata": {
    "slideshow": {
     "slide_type": "slide"
    }
   },
   "outputs": [
    {
     "data": {
      "text/html": [
       "<div>\n",
       "<style scoped>\n",
       "    .dataframe tbody tr th:only-of-type {\n",
       "        vertical-align: middle;\n",
       "    }\n",
       "\n",
       "    .dataframe tbody tr th {\n",
       "        vertical-align: top;\n",
       "    }\n",
       "\n",
       "    .dataframe thead th {\n",
       "        text-align: right;\n",
       "    }\n",
       "</style>\n",
       "<table border=\"1\" class=\"dataframe\">\n",
       "  <thead>\n",
       "    <tr style=\"text-align: right;\">\n",
       "      <th>treat</th>\n",
       "      <th>0</th>\n",
       "      <th>1</th>\n",
       "    </tr>\n",
       "  </thead>\n",
       "  <tbody>\n",
       "    <tr>\n",
       "      <th>black</th>\n",
       "      <td>0.092646</td>\n",
       "      <td>0.125475</td>\n",
       "    </tr>\n",
       "    <tr>\n",
       "      <th>urban</th>\n",
       "      <td>0.337953</td>\n",
       "      <td>0.824144</td>\n",
       "    </tr>\n",
       "    <tr>\n",
       "      <th>test</th>\n",
       "      <td>-0.039018</td>\n",
       "      <td>0.310690</td>\n",
       "    </tr>\n",
       "  </tbody>\n",
       "</table>\n",
       "</div>"
      ],
      "text/plain": [
       "treat         0         1\n",
       "black  0.092646  0.125475\n",
       "urban  0.337953  0.824144\n",
       "test  -0.039018  0.310690"
      ]
     },
     "execution_count": 27,
     "metadata": {},
     "output_type": "execute_result"
    }
   ],
   "source": [
    "df.groupby(\"treat\")[example_covariates].mean().T"
   ]
  },
  {
   "cell_type": "markdown",
   "metadata": {
    "slideshow": {
     "slide_type": "slide"
    }
   },
   "source": [
    "We now want to revisit the balancing of covariates."
   ]
  },
  {
   "cell_type": "code",
   "execution_count": 28,
   "metadata": {
    "slideshow": {
     "slide_type": "-"
    }
   },
   "outputs": [
    {
     "data": {
      "text/html": [
       "<div>\n",
       "<style scoped>\n",
       "    .dataframe tbody tr th:only-of-type {\n",
       "        vertical-align: middle;\n",
       "    }\n",
       "\n",
       "    .dataframe tbody tr th {\n",
       "        vertical-align: top;\n",
       "    }\n",
       "\n",
       "    .dataframe thead th {\n",
       "        text-align: right;\n",
       "    }\n",
       "</style>\n",
       "<table border=\"1\" class=\"dataframe\">\n",
       "  <thead>\n",
       "    <tr style=\"text-align: right;\">\n",
       "      <th>treat</th>\n",
       "      <th>0</th>\n",
       "      <th>1</th>\n",
       "    </tr>\n",
       "  </thead>\n",
       "  <tbody>\n",
       "    <tr>\n",
       "      <th>y</th>\n",
       "      <td>101.210034</td>\n",
       "      <td>108.445596</td>\n",
       "    </tr>\n",
       "    <tr>\n",
       "      <th>p</th>\n",
       "      <td>0.290813</td>\n",
       "      <td>0.290772</td>\n",
       "    </tr>\n",
       "    <tr>\n",
       "      <th>b</th>\n",
       "      <td>0.141635</td>\n",
       "      <td>0.125475</td>\n",
       "    </tr>\n",
       "    <tr>\n",
       "      <th>u</th>\n",
       "      <td>0.826996</td>\n",
       "      <td>0.824144</td>\n",
       "    </tr>\n",
       "    <tr>\n",
       "      <th>t</th>\n",
       "      <td>0.308589</td>\n",
       "      <td>0.310690</td>\n",
       "    </tr>\n",
       "  </tbody>\n",
       "</table>\n",
       "</div>"
      ],
      "text/plain": [
       "treat           0           1\n",
       "y      101.210034  108.445596\n",
       "p        0.290813    0.290772\n",
       "b        0.141635    0.125475\n",
       "u        0.826996    0.824144\n",
       "t        0.308589    0.310690"
      ]
     },
     "execution_count": 28,
     "metadata": {},
     "output_type": "execute_result"
    }
   ],
   "source": [
    "rename = {\n",
    "    \"y_ngbr\": \"y\",\n",
    "    \"p_ngbr\": \"p\",\n",
    "    \"b_ngbr\": \"b\",\n",
    "    \"u_ngbr\": \"u\",\n",
    "    \"t_ngbr\": \"t\",\n",
    "}\n",
    "\n",
    "df_control = df_matched[[\"y_ngbr\", \"p_ngbr\", \"b_ngbr\", \"u_ngbr\", \"t_ngbr\"]]\n",
    "df_control = df_control.rename(columns=rename)\n",
    "df_control = df_control.assign(treat=0)\n",
    "\n",
    "df_treated = df_matched[[\"y\", \"p\", \"b\", \"u\", \"t\"]]\n",
    "df_treated = df_treated.assign(treat=1)\n",
    "\n",
    "df_subset = pd.concat([df_treated, df_control])\n",
    "df_subset.groupby(\"treat\").mean().T"
   ]
  },
  {
   "cell_type": "markdown",
   "metadata": {
    "slideshow": {
     "slide_type": "slide"
    }
   },
   "source": [
    "Let's take a little detour and look at the balancing of observables in the Lalonde dataset."
   ]
  },
  {
   "cell_type": "code",
   "execution_count": 29,
   "metadata": {
    "slideshow": {
     "slide_type": "-"
    }
   },
   "outputs": [
    {
     "data": {
      "text/html": [
       "<div>\n",
       "<style scoped>\n",
       "    .dataframe tbody tr th:only-of-type {\n",
       "        vertical-align: middle;\n",
       "    }\n",
       "\n",
       "    .dataframe tbody tr th {\n",
       "        vertical-align: top;\n",
       "    }\n",
       "\n",
       "    .dataframe thead th {\n",
       "        text-align: right;\n",
       "    }\n",
       "</style>\n",
       "<table border=\"1\" class=\"dataframe\">\n",
       "  <thead>\n",
       "    <tr style=\"text-align: right;\">\n",
       "      <th></th>\n",
       "      <th>data_id</th>\n",
       "      <th>treat</th>\n",
       "      <th>age</th>\n",
       "      <th>education</th>\n",
       "      <th>black</th>\n",
       "      <th>hispanic</th>\n",
       "      <th>married</th>\n",
       "      <th>nodegree</th>\n",
       "      <th>re75</th>\n",
       "      <th>re78</th>\n",
       "      <th>Y</th>\n",
       "      <th>Y_0</th>\n",
       "      <th>Y_1</th>\n",
       "      <th>D</th>\n",
       "    </tr>\n",
       "  </thead>\n",
       "  <tbody>\n",
       "    <tr>\n",
       "      <th>0</th>\n",
       "      <td>Lalonde Sample</td>\n",
       "      <td>1</td>\n",
       "      <td>37</td>\n",
       "      <td>11</td>\n",
       "      <td>1</td>\n",
       "      <td>0</td>\n",
       "      <td>1</td>\n",
       "      <td>1</td>\n",
       "      <td>0.0</td>\n",
       "      <td>9930.0460</td>\n",
       "      <td>9930.0460</td>\n",
       "      <td>NaN</td>\n",
       "      <td>9930.0460</td>\n",
       "      <td>1</td>\n",
       "    </tr>\n",
       "    <tr>\n",
       "      <th>1</th>\n",
       "      <td>Lalonde Sample</td>\n",
       "      <td>1</td>\n",
       "      <td>22</td>\n",
       "      <td>9</td>\n",
       "      <td>0</td>\n",
       "      <td>1</td>\n",
       "      <td>0</td>\n",
       "      <td>1</td>\n",
       "      <td>0.0</td>\n",
       "      <td>3595.8940</td>\n",
       "      <td>3595.8940</td>\n",
       "      <td>NaN</td>\n",
       "      <td>3595.8940</td>\n",
       "      <td>1</td>\n",
       "    </tr>\n",
       "    <tr>\n",
       "      <th>2</th>\n",
       "      <td>Lalonde Sample</td>\n",
       "      <td>1</td>\n",
       "      <td>30</td>\n",
       "      <td>12</td>\n",
       "      <td>1</td>\n",
       "      <td>0</td>\n",
       "      <td>0</td>\n",
       "      <td>0</td>\n",
       "      <td>0.0</td>\n",
       "      <td>24909.4500</td>\n",
       "      <td>24909.4500</td>\n",
       "      <td>NaN</td>\n",
       "      <td>24909.4500</td>\n",
       "      <td>1</td>\n",
       "    </tr>\n",
       "    <tr>\n",
       "      <th>3</th>\n",
       "      <td>Lalonde Sample</td>\n",
       "      <td>1</td>\n",
       "      <td>27</td>\n",
       "      <td>11</td>\n",
       "      <td>1</td>\n",
       "      <td>0</td>\n",
       "      <td>0</td>\n",
       "      <td>1</td>\n",
       "      <td>0.0</td>\n",
       "      <td>7506.1460</td>\n",
       "      <td>7506.1460</td>\n",
       "      <td>NaN</td>\n",
       "      <td>7506.1460</td>\n",
       "      <td>1</td>\n",
       "    </tr>\n",
       "    <tr>\n",
       "      <th>4</th>\n",
       "      <td>Lalonde Sample</td>\n",
       "      <td>1</td>\n",
       "      <td>33</td>\n",
       "      <td>8</td>\n",
       "      <td>1</td>\n",
       "      <td>0</td>\n",
       "      <td>0</td>\n",
       "      <td>1</td>\n",
       "      <td>0.0</td>\n",
       "      <td>289.7899</td>\n",
       "      <td>289.7899</td>\n",
       "      <td>NaN</td>\n",
       "      <td>289.7899</td>\n",
       "      <td>1</td>\n",
       "    </tr>\n",
       "  </tbody>\n",
       "</table>\n",
       "</div>"
      ],
      "text/plain": [
       "          data_id  treat  age  education  black  hispanic  married  nodegree  \\\n",
       "0  Lalonde Sample      1   37         11      1         0        1         1   \n",
       "1  Lalonde Sample      1   22          9      0         1        0         1   \n",
       "2  Lalonde Sample      1   30         12      1         0        0         0   \n",
       "3  Lalonde Sample      1   27         11      1         0        0         1   \n",
       "4  Lalonde Sample      1   33          8      1         0        0         1   \n",
       "\n",
       "   re75        re78           Y  Y_0         Y_1  D  \n",
       "0   0.0   9930.0460   9930.0460  NaN   9930.0460  1  \n",
       "1   0.0   3595.8940   3595.8940  NaN   3595.8940  1  \n",
       "2   0.0  24909.4500  24909.4500  NaN  24909.4500  1  \n",
       "3   0.0   7506.1460   7506.1460  NaN   7506.1460  1  \n",
       "4   0.0    289.7899    289.7899  NaN    289.7899  1  "
      ]
     },
     "execution_count": 29,
     "metadata": {},
     "output_type": "execute_result"
    }
   ],
   "source": [
    "df = get_lalonde_data()\n",
    "df.head()"
   ]
  },
  {
   "cell_type": "code",
   "execution_count": 30,
   "metadata": {
    "slideshow": {
     "slide_type": "slide"
    }
   },
   "outputs": [
    {
     "data": {
      "text/html": [
       "<div>\n",
       "<style scoped>\n",
       "    .dataframe tbody tr th:only-of-type {\n",
       "        vertical-align: middle;\n",
       "    }\n",
       "\n",
       "    .dataframe tbody tr th {\n",
       "        vertical-align: top;\n",
       "    }\n",
       "\n",
       "    .dataframe thead th {\n",
       "        text-align: right;\n",
       "    }\n",
       "</style>\n",
       "<table border=\"1\" class=\"dataframe\">\n",
       "  <thead>\n",
       "    <tr style=\"text-align: right;\">\n",
       "      <th>treat</th>\n",
       "      <th>0</th>\n",
       "      <th>1</th>\n",
       "    </tr>\n",
       "  </thead>\n",
       "  <tbody>\n",
       "    <tr>\n",
       "      <th>black</th>\n",
       "      <td>0.800000</td>\n",
       "      <td>0.801347</td>\n",
       "    </tr>\n",
       "    <tr>\n",
       "      <th>married</th>\n",
       "      <td>0.157647</td>\n",
       "      <td>0.168350</td>\n",
       "    </tr>\n",
       "    <tr>\n",
       "      <th>hispanic</th>\n",
       "      <td>0.112941</td>\n",
       "      <td>0.094276</td>\n",
       "    </tr>\n",
       "    <tr>\n",
       "      <th>re75</th>\n",
       "      <td>3026.682743</td>\n",
       "      <td>3066.098187</td>\n",
       "    </tr>\n",
       "  </tbody>\n",
       "</table>\n",
       "</div>"
      ],
      "text/plain": [
       "treat               0            1\n",
       "black        0.800000     0.801347\n",
       "married      0.157647     0.168350\n",
       "hispanic     0.112941     0.094276\n",
       "re75      3026.682743  3066.098187"
      ]
     },
     "execution_count": 30,
     "metadata": {},
     "output_type": "execute_result"
    }
   ],
   "source": [
    "example_covariates = [\"black\", \"married\", \"hispanic\", \"re75\"]\n",
    "df.groupby(\"treat\")[example_covariates].mean().T"
   ]
  },
  {
   "cell_type": "markdown",
   "metadata": {
    "slideshow": {
     "slide_type": "-"
    }
   },
   "source": [
    "The covariates are balanced before any reweighting thanks to the assignment mechanisms.\n",
    "\n",
    "\n",
    "\n",
    "Returning to our simulated example. Which matching algorihtm is the best?\n",
    "\n",
    "**Incomplete specification**\n",
    "\n",
    "* missing higher-order interactions in propensity score and omission of cognitive variable\n",
    "\n",
    "<img src=\"material/fig-matching-demonstration-four-benchmarking.png\" width=\"500\" />\n",
    "\n",
    "\n",
    "**Notes**\n",
    "\n",
    "* The estimates for the incomplete specification are usually much larger.\n",
    "\n",
    "* Software programs that used the same routine yield very different estimates."
   ]
  },
  {
   "cell_type": "markdown",
   "metadata": {},
   "source": [
    "### Resources"
   ]
  },
  {
   "cell_type": "markdown",
   "metadata": {},
   "source": [
    "* **Heckman, J. J., Ichimura, H. and Todd, P. (1997)**. Matching as an econometric evaluation estimator: Evidence from evaluating a job training ptogramme. In *Review of Economic Studies*, 64(4), 605–54.\n",
    "\n",
    "\n",
    "\n",
    "* **Heckman, J. J., Ichimura, H., Smith, J. A. and Todd, P. (1998)**. Characterizing selection bias using experimental data.” In *Econometrica*, 66(5), 1017–98.\n",
    "\n",
    "\n",
    "\n",
    "* **Heckman, J. J., Ichimura, H. and Todd, P. (1998)**. Matching as an econometric evaluation estimator. In *Review of Economic Studies*, 65(2), 261–94.\n",
    "\n",
    "\n",
    "\n",
    "* **Heckman, J. J. and Hotz, V. J. (1989)**. Choosing among alternative non-experimental methods for estimating the impact of social programs: The case of manpower training.” In *Journal of the American Statistical Association*, 84(408), 862–74.\n",
    "\n",
    "\n",
    "* **Heckman, J. and Navarro-Lozano, S. (2004)**. Using matching, instrumental variables, and control functions to estimate economic choice models. In *The Review of Economics and Statistics*,  86(1), 30–57.\n",
    "\n",
    "\n",
    "* **Morgan, S. (2001)**. Counterfactuals, causal effect heterogeneity, and the catholic school effect on learning. In *Sociology of Education*, 74(4), 341–374. \n",
    "\n",
    "\n",
    "* **Rosenbaum, P. R. and Rubin, D. (1983)**. The central role of the propensity score in observational studies for causal effects. In *Biometrika*, 70(1), 41–55.\n",
    "\n",
    "\n",
    "* **Smith, J. A. and Todd, P. (2005)**. Does matching evercome Lalonde’s eritique of nonexperimental estimators?. In *Journal of Econometrics*, 125(1–2), 305–53."
   ]
  }
 ],
 "metadata": {
  "celltoolbar": "Slideshow",
  "kernelspec": {
   "display_name": "Python 3",
   "language": "python",
   "name": "python3"
  },
  "language_info": {
   "codemirror_mode": {
    "name": "ipython",
    "version": 3
   },
   "file_extension": ".py",
   "mimetype": "text/x-python",
   "name": "python",
   "nbconvert_exporter": "python",
   "pygments_lexer": "ipython3",
   "version": "3.7.7"
  },
  "pycharm": {
   "stem_cell": {
    "cell_type": "raw",
    "metadata": {
     "collapsed": false
    },
    "source": []
   }
  },
  "varInspector": {
   "cols": {
    "lenName": 16,
    "lenType": 16,
    "lenVar": 40
   },
   "kernels_config": {
    "python": {
     "delete_cmd_postfix": "",
     "delete_cmd_prefix": "del ",
     "library": "var_list.py",
     "varRefreshCmd": "print(var_dic_list())"
    },
    "r": {
     "delete_cmd_postfix": ") ",
     "delete_cmd_prefix": "rm(",
     "library": "var_list.r",
     "varRefreshCmd": "cat(var_dic_list()) "
    }
   },
   "types_to_exclude": [
    "module",
    "function",
    "builtin_function_or_method",
    "instance",
    "_Feature"
   ],
   "window_display": false
  }
 },
 "nbformat": 4,
 "nbformat_minor": 4
}
