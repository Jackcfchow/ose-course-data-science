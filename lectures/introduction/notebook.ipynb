{
 "cells": [
  {
   "cell_type": "markdown",
   "metadata": {},
   "source": [
    "# Introduction"
   ]
  },
  {
   "cell_type": "markdown",
   "metadata": {
    "toc-hr-collapsed": false
   },
   "source": [
    "> This course introduces students to basic microeconmetric methods. The objective is to learn how to make and evaluate causal claims. By the end of the course, students should to able to apply each of the methods discussed and critically evaluate research based on them. \n",
    "\n",
    "I just want to discuss some basic features of the course. We discuss the core references, the tooling for the course, student projects, and illustrate the basics of the potential outcomes model and causal graphs.\n",
    "\n",
    "#### Causal questions\n",
    "\n",
    "What is the causal effect of ...\n",
    "\n",
    "* neighborhood of residence on educational performance, deviance, and youth development\n",
    "* school vouchers on learning?\n",
    "* of charter schools on learning?\n",
    "* worker training on earnings?\n",
    "* ...\n",
    "\n",
    "What causal question brought you here?"
   ]
  },
  {
   "cell_type": "markdown",
   "metadata": {},
   "source": [
    "### Core reference Test"
   ]
  },
  {
   "cell_type": "markdown",
   "metadata": {},
   "source": [
    "The whole course is built on the following textbook:\n",
    "\n",
    "* Winship, C., & Morgan, S. L. (2007). [*Counterfactuals and causal inference: Methods and principles for social research*](https://www.amazon.com/Counterfactuals-Causal-Inference-Principles-Analytical/dp/1107694167/ref=dp_ob_title_bk). Cambridge, England: Cambridge University Press.\n",
    "\n",
    "This is a rather non-standard textbook in economics. However, I very much enjoy working with it as it provides a coherent conceptual framework for a host of different methods for causal analysis. It then clearly delineates the special cases that allow the application of particular methods. We will follow their lead and structure our thinking around the **counterfactual approach to causal analysis** and its two key ingredients **potential outcome model** and **directed graphs**.\n",
    "\n",
    "It also is one of the few textbooks that includes extensive simulation studies to convey the economic assumptions required to apply certain estimation strategies. \n",
    "\n",
    "It is not very technical at all, so will also need to draw on more conventional resources to fill this gap.\n",
    "\n",
    "* Wooldridge, J. M. (2001). [*Econometric analysis of cross section and panel data*](https://mitpress.mit.edu/books/econometric-analysis-cross-section-and-panel-data). Cambridge, MA: The MIT Press.\n",
    "\n",
    "* Angrist, J. D., & Pischke, J. (2009). [*Mostly harmless econometrics: An empiricists companion*](https://www.amazon.com/Mostly-Harmless-Econometrics-Empiricists-Companion/dp/0691120358/ref=sr_1_1?keywords=mostly+harmless+econometrics&qid=1553511192&s=gateway&sr=8-1). Princeton, NJ: Princeton University Press.\n",
    "\n",
    "* Frölich, M., and Sperlich, S. (2019). [*Impact evaluation: Treatment effects and causal analysis*](https://www.cambridge.org/core/books/impact-evaluation/F07A859F06FF131D78DA7FC81939A6DC). Cambridge, England: Cambridge University Press.\n",
    "\n",
    "\n",
    "Focusing on the conceptual framework as much as we do in the class has its cost. We might not get to discuss all the approaches you might be particularly interested in. However, my goal is that all of you can draw on this framework later on to think about your econometric problem in a structured way. This then enables you to choose the right approach for the analysis and study it in more detail on your own.\n",
    "\n",
    "<img src=\"material/fig-dunning-kruger.png\" width=\"500\">\n",
    "\n",
    "Combining this counterfactual approach to causal analysis with sufficient domain-expertise will allow you to leave the valley of despair."
   ]
  },
  {
   "cell_type": "markdown",
   "metadata": {},
   "source": [
    "### Lectures"
   ]
  },
  {
   "cell_type": "markdown",
   "metadata": {},
   "source": [
    "We follow the general structure of Winship & Morgan (2007).\n",
    "\n",
    "* Counterfactuals, potential outcomes and causal graphs\n",
    "\n",
    "* Estimating causal effects by conditioning on observables\n",
    "    * regression, matching, ...\n",
    "\n",
    "* Estimating causal effects by other means\n",
    "    * instrumental variables, mechanism-based estimation, regression discontinuity design, ..."
   ]
  },
  {
   "cell_type": "markdown",
   "metadata": {},
   "source": [
    "### Tooling"
   ]
  },
  {
   "cell_type": "markdown",
   "metadata": {},
   "source": [
    "We will use open-source software and some of the tools building on it extensively throughout the course.\n",
    "\n",
    "* Course website\n",
    "* GitHub\n",
    "* Zulip\n",
    "* Python \n",
    "* Scipy\n",
    "* Jupyter \n",
    "* Travis CI\n",
    "* Datasets\n",
    "\n",
    "We will briefly discuss each of these components over the next week. By then end of the term, you hopefully have a good sense on how we combine all of them to produce sound empirical research. Transparency and reproducibility are a the absolute minimum and all then can be very easily achieved using the kind of tools of our class. \n",
    "\n",
    "Compared to other classes on the topic, we will do quite some programming in class. I think I have a good reason to do so. From my own experience in learning and teaching the material, there is nothing better to understand the potential and limitations of the approaches we discuss than to implemented them in a simulation setup where we have full control of the underlying data generating process.\n",
    "\n",
    "To cite Richard Feynman: What I cannot create, I cannot understand.\n",
    "\n",
    "However, it is often problematic that students have a very, very heterogeneous background regarding their prior programming experience and some feel intimidated by the need to not only learn the material we discuss in class but also catch up on the programming. To mitigate this valid concern, we started several accompanying initiatives that will get you up to speed such as additional workshop, help desks, etc. "
   ]
  },
  {
   "cell_type": "markdown",
   "metadata": {},
   "source": [
    "### Problem sets"
   ]
  },
  {
   "cell_type": "markdown",
   "metadata": {},
   "source": [
    "Thanks to [Mila Kiseleva](https://github.com/milakis), [Tim Mensinger](https://github.com/timmens/), and [Sebastian Gsell](https://github.com/segsell) we now have four problem sets available on our website.\n",
    "\n",
    "* Potential outcome model\n",
    "* Matching\n",
    "* Regression-discontinuity design\n",
    "* Generalized Roy model\n",
    "\n",
    "Just as the whole course, they do not only require you to further digest the material in the course but also require you to do some programming. They are available on our course website and we will discuss them in due course."
   ]
  },
  {
   "cell_type": "markdown",
   "metadata": {},
   "source": [
    "### Projects"
   ]
  },
  {
   "cell_type": "markdown",
   "metadata": {
    "toc-hr-collapsed": false
   },
   "source": [
    "Applying these methods and understanding their potential and limitations is only possible when bringing them to bear on one's one research project. So we will work on student projects during the course. Details and an example are provided [here](https://github.com/HumanCapitalAnalysis/microeconometrics/tree/master/iterations/bonn-ss-20#student-projects)."
   ]
  },
  {
   "cell_type": "markdown",
   "metadata": {
    "toc-hr-collapsed": false
   },
   "source": [
    "### Potential outcome model"
   ]
  },
  {
   "cell_type": "markdown",
   "metadata": {},
   "source": [
    "The potential outcome model serves us several purposes:\n",
    "\n",
    "* help stipulate assumptions\n",
    "* evaluate alternative data analysis techniques\n",
    "* think carefully about process of causal exposure\n",
    "\n",
    "#### Basic setup\n",
    "\n",
    "There are three simple variables:\n",
    "\n",
    "* $D$, treatment\n",
    "* $Y_1$, outcome in the treatment state\n",
    "* $Y_0$, outcome in the no-treatment state\n",
    "\n",
    "#### Examples\n",
    "\n",
    "* economics of education\n",
    "* health economics\n",
    "* industrial organization\n",
    "* $...$"
   ]
  },
  {
   "cell_type": "markdown",
   "metadata": {
    "toc-hr-collapsed": false
   },
   "source": [
    "#### Exploration\n",
    "\n",
    "We will use our first dataset to illustrate the basic problems of causal analysis. We will use the original data from the article below:\n",
    "\n",
    "* LaLonde, R. J. (1986). [Evaluating the econometric evaluations of training programs with experimental data](https://www.jstor.org/stable/1806062). *The American Economic Review*, 76(4), 604-620.\n",
    "\n",
    "He summarizes the basic setup as follows:\n",
    "\n",
    "> The National Supported Work Demonstration (NSW) was temporary employment program desinged to help disadvantaged workers lacking basic job skills move into the labor market by giving them work experience and counseling in sheltered environment. Unlike other federally sponsored employment programs, the NSW program assigned qualified applications randomly. Those assigned to the treatment group received all the benefits of the NSW program, while those assigned to the control group were left to fend for themselves.\n",
    "\n",
    "What is the *effect* of the program?\n",
    "\n",
    "We will have a quick look at a subset of the data to illustrate the **fundamental problem of evaluation**, i.e. we only observe one of the potential outcomes depending on the treatment status but never both."
   ]
  },
  {
   "cell_type": "code",
   "execution_count": 1,
   "metadata": {},
   "outputs": [],
   "source": [
    "import matplotlib.pyplot as plt\n",
    "import seaborn as sns\n",
    "import pandas as pd\n",
    "import numpy as np\n",
    "\n",
    "# We collected a host of data from two other influential textbooks.\n",
    "df = pd.read_csv(\"../../datasets/processed/dehejia_waba/nsw_lalonde.csv\")\n",
    "df.index.set_names(\"Individual\", inplace=True)"
   ]
  },
  {
   "cell_type": "code",
   "execution_count": 2,
   "metadata": {},
   "outputs": [
    {
     "data": {
      "text/html": [
       "<div>\n",
       "<style scoped>\n",
       "    .dataframe tbody tr th:only-of-type {\n",
       "        vertical-align: middle;\n",
       "    }\n",
       "\n",
       "    .dataframe tbody tr th {\n",
       "        vertical-align: top;\n",
       "    }\n",
       "\n",
       "    .dataframe thead th {\n",
       "        text-align: right;\n",
       "    }\n",
       "</style>\n",
       "<table border=\"1\" class=\"dataframe\">\n",
       "  <thead>\n",
       "    <tr style=\"text-align: right;\">\n",
       "      <th></th>\n",
       "      <th>treat</th>\n",
       "      <th>age</th>\n",
       "      <th>education</th>\n",
       "      <th>black</th>\n",
       "      <th>hispanic</th>\n",
       "      <th>married</th>\n",
       "      <th>nodegree</th>\n",
       "      <th>re75</th>\n",
       "      <th>re78</th>\n",
       "    </tr>\n",
       "  </thead>\n",
       "  <tbody>\n",
       "    <tr>\n",
       "      <th>count</th>\n",
       "      <td>722.000000</td>\n",
       "      <td>722.000000</td>\n",
       "      <td>722.000000</td>\n",
       "      <td>722.000000</td>\n",
       "      <td>722.000000</td>\n",
       "      <td>722.000000</td>\n",
       "      <td>722.000000</td>\n",
       "      <td>722.000000</td>\n",
       "      <td>722.000000</td>\n",
       "    </tr>\n",
       "    <tr>\n",
       "      <th>mean</th>\n",
       "      <td>0.411357</td>\n",
       "      <td>24.520776</td>\n",
       "      <td>10.267313</td>\n",
       "      <td>0.800554</td>\n",
       "      <td>0.105263</td>\n",
       "      <td>0.162050</td>\n",
       "      <td>0.779778</td>\n",
       "      <td>3042.896575</td>\n",
       "      <td>5454.635848</td>\n",
       "    </tr>\n",
       "    <tr>\n",
       "      <th>std</th>\n",
       "      <td>0.492421</td>\n",
       "      <td>6.625947</td>\n",
       "      <td>1.704774</td>\n",
       "      <td>0.399861</td>\n",
       "      <td>0.307105</td>\n",
       "      <td>0.368752</td>\n",
       "      <td>0.414683</td>\n",
       "      <td>5066.143366</td>\n",
       "      <td>6252.943422</td>\n",
       "    </tr>\n",
       "    <tr>\n",
       "      <th>min</th>\n",
       "      <td>0.000000</td>\n",
       "      <td>17.000000</td>\n",
       "      <td>3.000000</td>\n",
       "      <td>0.000000</td>\n",
       "      <td>0.000000</td>\n",
       "      <td>0.000000</td>\n",
       "      <td>0.000000</td>\n",
       "      <td>0.000000</td>\n",
       "      <td>0.000000</td>\n",
       "    </tr>\n",
       "    <tr>\n",
       "      <th>25%</th>\n",
       "      <td>0.000000</td>\n",
       "      <td>19.000000</td>\n",
       "      <td>9.000000</td>\n",
       "      <td>1.000000</td>\n",
       "      <td>0.000000</td>\n",
       "      <td>0.000000</td>\n",
       "      <td>1.000000</td>\n",
       "      <td>0.000000</td>\n",
       "      <td>0.000000</td>\n",
       "    </tr>\n",
       "    <tr>\n",
       "      <th>50%</th>\n",
       "      <td>0.000000</td>\n",
       "      <td>23.000000</td>\n",
       "      <td>10.000000</td>\n",
       "      <td>1.000000</td>\n",
       "      <td>0.000000</td>\n",
       "      <td>0.000000</td>\n",
       "      <td>1.000000</td>\n",
       "      <td>936.307950</td>\n",
       "      <td>3951.889000</td>\n",
       "    </tr>\n",
       "    <tr>\n",
       "      <th>75%</th>\n",
       "      <td>1.000000</td>\n",
       "      <td>27.000000</td>\n",
       "      <td>11.000000</td>\n",
       "      <td>1.000000</td>\n",
       "      <td>0.000000</td>\n",
       "      <td>0.000000</td>\n",
       "      <td>1.000000</td>\n",
       "      <td>3993.207000</td>\n",
       "      <td>8772.004250</td>\n",
       "    </tr>\n",
       "    <tr>\n",
       "      <th>max</th>\n",
       "      <td>1.000000</td>\n",
       "      <td>55.000000</td>\n",
       "      <td>16.000000</td>\n",
       "      <td>1.000000</td>\n",
       "      <td>1.000000</td>\n",
       "      <td>1.000000</td>\n",
       "      <td>1.000000</td>\n",
       "      <td>37431.660000</td>\n",
       "      <td>60307.930000</td>\n",
       "    </tr>\n",
       "  </tbody>\n",
       "</table>\n",
       "</div>"
      ],
      "text/plain": [
       "            treat         age   education       black    hispanic     married  \\\n",
       "count  722.000000  722.000000  722.000000  722.000000  722.000000  722.000000   \n",
       "mean     0.411357   24.520776   10.267313    0.800554    0.105263    0.162050   \n",
       "std      0.492421    6.625947    1.704774    0.399861    0.307105    0.368752   \n",
       "min      0.000000   17.000000    3.000000    0.000000    0.000000    0.000000   \n",
       "25%      0.000000   19.000000    9.000000    1.000000    0.000000    0.000000   \n",
       "50%      0.000000   23.000000   10.000000    1.000000    0.000000    0.000000   \n",
       "75%      1.000000   27.000000   11.000000    1.000000    0.000000    0.000000   \n",
       "max      1.000000   55.000000   16.000000    1.000000    1.000000    1.000000   \n",
       "\n",
       "         nodegree          re75          re78  \n",
       "count  722.000000    722.000000    722.000000  \n",
       "mean     0.779778   3042.896575   5454.635848  \n",
       "std      0.414683   5066.143366   6252.943422  \n",
       "min      0.000000      0.000000      0.000000  \n",
       "25%      1.000000      0.000000      0.000000  \n",
       "50%      1.000000    936.307950   3951.889000  \n",
       "75%      1.000000   3993.207000   8772.004250  \n",
       "max      1.000000  37431.660000  60307.930000  "
      ]
     },
     "execution_count": 2,
     "metadata": {},
     "output_type": "execute_result"
    }
   ],
   "source": [
    "df.describe()"
   ]
  },
  {
   "cell_type": "code",
   "execution_count": 3,
   "metadata": {},
   "outputs": [],
   "source": [
    "# It is important to check for missing values first.\n",
    "for column in df.columns:\n",
    "    assert not df[column].isna().any()"
   ]
  },
  {
   "cell_type": "markdown",
   "metadata": {},
   "source": [
    "Note that this lecture, just as all other lectures, is available on [![Binder](https://mybinder.org/badge_logo.svg)](https://mybinder.org/v2/gh/HumanCapitalAnalysis/microeconometrics/master?filepath=lectures%2F01_introduction%2Flecture.ipynb) so you can easily continue working on it and take your exploration to another direction.\n",
    "\n",
    "There are numerous discrete variables in this dataset describing the individual's background. How does their distribution look like?"
   ]
  },
  {
   "cell_type": "code",
   "execution_count": 4,
   "metadata": {},
   "outputs": [
    {
     "data": {
      "image/png": "[encoded data removed]",
      "text/plain": [
       "<Figure size 432x288 with 1 Axes>"
      ]
     },
     "metadata": {
      "needs_background": "light"
     },
     "output_type": "display_data"
    },
    {
     "data": {
      "image/png": "[encoded data removed]",
      "text/plain": [
       "<Figure size 432x288 with 1 Axes>"
      ]
     },
     "metadata": {
      "needs_background": "light"
     },
     "output_type": "display_data"
    },
    {
     "data": {
      "image/png": "[encoded data removed]",
      "text/plain": [
       "<Figure size 432x288 with 1 Axes>"
      ]
     },
     "metadata": {
      "needs_background": "light"
     },
     "output_type": "display_data"
    },
    {
     "data": {
      "image/png": "[encoded data removed]",
      "text/plain": [
       "<Figure size 432x288 with 1 Axes>"
      ]
     },
     "metadata": {
      "needs_background": "light"
     },
     "output_type": "display_data"
    },
    {
     "data": {
      "image/png": "[encoded data removed]",
      "text/plain": [
       "<Figure size 432x288 with 1 Axes>"
      ]
     },
     "metadata": {
      "needs_background": "light"
     },
     "output_type": "display_data"
    },
    {
     "data": {
      "image/png": "[encoded data removed]",
      "text/plain": [
       "<Figure size 432x288 with 1 Axes>"
      ]
     },
     "metadata": {
      "needs_background": "light"
     },
     "output_type": "display_data"
    },
    {
     "data": {
      "image/png": "[encoded data removed]",
      "text/plain": [
       "<Figure size 432x288 with 1 Axes>"
      ]
     },
     "metadata": {
      "needs_background": "light"
     },
     "output_type": "display_data"
    }
   ],
   "source": [
    "columns = [\n",
    "    \"treat\",\n",
    "    \"age\",\n",
    "    \"education\",\n",
    "    \"black\",\n",
    "    \"hispanic\",\n",
    "    \"married\",\n",
    "    \"nodegree\",\n",
    "]\n",
    "for column in columns:\n",
    "    sns.countplot(df[column], color=\"#1f77b4\")\n",
    "    plt.show()"
   ]
  },
  {
   "cell_type": "markdown",
   "metadata": {},
   "source": [
    "How about the continous earnings variable?"
   ]
  },
  {
   "cell_type": "code",
   "execution_count": 5,
   "metadata": {},
   "outputs": [
    {
     "data": {
      "image/png": "[encoded data removed]",
      "text/plain": [
       "<Figure size 432x288 with 1 Axes>"
      ]
     },
     "metadata": {
      "needs_background": "light"
     },
     "output_type": "display_data"
    },
    {
     "data": {
      "image/png": "[encoded data removed]",
      "text/plain": [
       "<Figure size 432x288 with 1 Axes>"
      ]
     },
     "metadata": {
      "needs_background": "light"
     },
     "output_type": "display_data"
    }
   ],
   "source": [
    "columns = [\"re75\", \"re78\"]\n",
    "for column in columns:\n",
    "\n",
    "    earnings = df[column]\n",
    "\n",
    "    # We drop all earnings at zero.\n",
    "    earnings = earnings.loc[earnings > 0]\n",
    "\n",
    "    ax = sns.distplot(earnings)\n",
    "    ax.set_xlim([0, None])\n",
    "\n",
    "    plt.show()"
   ]
  },
  {
   "cell_type": "markdown",
   "metadata": {},
   "source": [
    "What is the data that corresponds to $(Y, Y_1, Y_0, D)$?"
   ]
  },
  {
   "cell_type": "code",
   "execution_count": 6,
   "metadata": {},
   "outputs": [
    {
     "data": {
      "text/html": [
       "<div>\n",
       "<style scoped>\n",
       "    .dataframe tbody tr th:only-of-type {\n",
       "        vertical-align: middle;\n",
       "    }\n",
       "\n",
       "    .dataframe tbody tr th {\n",
       "        vertical-align: top;\n",
       "    }\n",
       "\n",
       "    .dataframe thead th {\n",
       "        text-align: right;\n",
       "    }\n",
       "</style>\n",
       "<table border=\"1\" class=\"dataframe\">\n",
       "  <thead>\n",
       "    <tr style=\"text-align: right;\">\n",
       "      <th></th>\n",
       "      <th>Y</th>\n",
       "      <th>Y_1</th>\n",
       "      <th>Y_0</th>\n",
       "      <th>D</th>\n",
       "    </tr>\n",
       "    <tr>\n",
       "      <th>Individual</th>\n",
       "      <th></th>\n",
       "      <th></th>\n",
       "      <th></th>\n",
       "      <th></th>\n",
       "    </tr>\n",
       "  </thead>\n",
       "  <tbody>\n",
       "    <tr>\n",
       "      <th>495</th>\n",
       "      <td>1264.232</td>\n",
       "      <td>NaN</td>\n",
       "      <td>1264.232</td>\n",
       "      <td>0.0</td>\n",
       "    </tr>\n",
       "    <tr>\n",
       "      <th>143</th>\n",
       "      <td>0.000</td>\n",
       "      <td>0.000</td>\n",
       "      <td>NaN</td>\n",
       "      <td>1.0</td>\n",
       "    </tr>\n",
       "    <tr>\n",
       "      <th>283</th>\n",
       "      <td>5615.189</td>\n",
       "      <td>5615.189</td>\n",
       "      <td>NaN</td>\n",
       "      <td>1.0</td>\n",
       "    </tr>\n",
       "    <tr>\n",
       "      <th>263</th>\n",
       "      <td>22163.250</td>\n",
       "      <td>22163.250</td>\n",
       "      <td>NaN</td>\n",
       "      <td>1.0</td>\n",
       "    </tr>\n",
       "    <tr>\n",
       "      <th>376</th>\n",
       "      <td>0.000</td>\n",
       "      <td>NaN</td>\n",
       "      <td>0.000</td>\n",
       "      <td>0.0</td>\n",
       "    </tr>\n",
       "    <tr>\n",
       "      <th>61</th>\n",
       "      <td>1048.432</td>\n",
       "      <td>1048.432</td>\n",
       "      <td>NaN</td>\n",
       "      <td>1.0</td>\n",
       "    </tr>\n",
       "    <tr>\n",
       "      <th>266</th>\n",
       "      <td>0.000</td>\n",
       "      <td>0.000</td>\n",
       "      <td>NaN</td>\n",
       "      <td>1.0</td>\n",
       "    </tr>\n",
       "    <tr>\n",
       "      <th>162</th>\n",
       "      <td>11965.810</td>\n",
       "      <td>11965.810</td>\n",
       "      <td>NaN</td>\n",
       "      <td>1.0</td>\n",
       "    </tr>\n",
       "    <tr>\n",
       "      <th>119</th>\n",
       "      <td>13829.620</td>\n",
       "      <td>13829.620</td>\n",
       "      <td>NaN</td>\n",
       "      <td>1.0</td>\n",
       "    </tr>\n",
       "    <tr>\n",
       "      <th>690</th>\n",
       "      <td>2652.625</td>\n",
       "      <td>NaN</td>\n",
       "      <td>2652.625</td>\n",
       "      <td>0.0</td>\n",
       "    </tr>\n",
       "  </tbody>\n",
       "</table>\n",
       "</div>"
      ],
      "text/plain": [
       "                    Y        Y_1       Y_0    D\n",
       "Individual                                     \n",
       "495          1264.232        NaN  1264.232  0.0\n",
       "143             0.000      0.000       NaN  1.0\n",
       "283          5615.189   5615.189       NaN  1.0\n",
       "263         22163.250  22163.250       NaN  1.0\n",
       "376             0.000        NaN     0.000  0.0\n",
       "61           1048.432   1048.432       NaN  1.0\n",
       "266             0.000      0.000       NaN  1.0\n",
       "162         11965.810  11965.810       NaN  1.0\n",
       "119         13829.620  13829.620       NaN  1.0\n",
       "690          2652.625        NaN  2652.625  0.0"
      ]
     },
     "execution_count": 6,
     "metadata": {},
     "output_type": "execute_result"
    }
   ],
   "source": [
    "# We first create True / False\n",
    "is_treated = df[\"treat\"] == 1\n",
    "\n",
    "df[\"Y\"] = df[\"re78\"]\n",
    "df[\"Y_0\"] = df.loc[~is_treated, \"re78\"]\n",
    "df[\"Y_1\"] = df.loc[is_treated, \"re78\"]\n",
    "\n",
    "df[\"D\"] = np.nan\n",
    "df.loc[~is_treated, \"D\"] = 0\n",
    "df.loc[is_treated, \"D\"] = 1\n",
    "\n",
    "df[[\"Y\", \"Y_1\", \"Y_0\", \"D\"]].sample(10)"
   ]
  },
  {
   "cell_type": "markdown",
   "metadata": {},
   "source": [
    "Let us get a basic impression on how the distribution of earnings looks like by treatment status."
   ]
  },
  {
   "cell_type": "code",
   "execution_count": 7,
   "metadata": {},
   "outputs": [
    {
     "data": {
      "text/html": [
       "<div>\n",
       "<style scoped>\n",
       "    .dataframe tbody tr th:only-of-type {\n",
       "        vertical-align: middle;\n",
       "    }\n",
       "\n",
       "    .dataframe tbody tr th {\n",
       "        vertical-align: top;\n",
       "    }\n",
       "\n",
       "    .dataframe thead th {\n",
       "        text-align: right;\n",
       "    }\n",
       "</style>\n",
       "<table border=\"1\" class=\"dataframe\">\n",
       "  <thead>\n",
       "    <tr style=\"text-align: right;\">\n",
       "      <th></th>\n",
       "      <th>count</th>\n",
       "      <th>mean</th>\n",
       "      <th>std</th>\n",
       "      <th>min</th>\n",
       "      <th>25%</th>\n",
       "      <th>50%</th>\n",
       "      <th>75%</th>\n",
       "      <th>max</th>\n",
       "    </tr>\n",
       "    <tr>\n",
       "      <th>D</th>\n",
       "      <th></th>\n",
       "      <th></th>\n",
       "      <th></th>\n",
       "      <th></th>\n",
       "      <th></th>\n",
       "      <th></th>\n",
       "      <th></th>\n",
       "      <th></th>\n",
       "    </tr>\n",
       "  </thead>\n",
       "  <tbody>\n",
       "    <tr>\n",
       "      <th>0.0</th>\n",
       "      <td>425.0</td>\n",
       "      <td>5090.048302</td>\n",
       "      <td>5718.088763</td>\n",
       "      <td>0.0</td>\n",
       "      <td>0.0000</td>\n",
       "      <td>3746.701</td>\n",
       "      <td>8329.823</td>\n",
       "      <td>39483.53</td>\n",
       "    </tr>\n",
       "    <tr>\n",
       "      <th>1.0</th>\n",
       "      <td>297.0</td>\n",
       "      <td>5976.352033</td>\n",
       "      <td>6923.796427</td>\n",
       "      <td>0.0</td>\n",
       "      <td>549.2984</td>\n",
       "      <td>4232.309</td>\n",
       "      <td>9381.295</td>\n",
       "      <td>60307.93</td>\n",
       "    </tr>\n",
       "  </tbody>\n",
       "</table>\n",
       "</div>"
      ],
      "text/plain": [
       "     count         mean          std  min       25%       50%       75%  \\\n",
       "D                                                                         \n",
       "0.0  425.0  5090.048302  5718.088763  0.0    0.0000  3746.701  8329.823   \n",
       "1.0  297.0  5976.352033  6923.796427  0.0  549.2984  4232.309  9381.295   \n",
       "\n",
       "          max  \n",
       "D              \n",
       "0.0  39483.53  \n",
       "1.0  60307.93  "
      ]
     },
     "execution_count": 7,
     "metadata": {},
     "output_type": "execute_result"
    }
   ],
   "source": [
    "df.groupby(\"D\")[\"re78\"].describe()"
   ]
  },
  {
   "cell_type": "code",
   "execution_count": 8,
   "metadata": {},
   "outputs": [
    {
     "data": {
      "text/plain": [
       "<matplotlib.legend.Legend at 0x7feb68866e50>"
      ]
     },
     "execution_count": 8,
     "metadata": {},
     "output_type": "execute_result"
    },
    {
     "data": {
      "image/png": "[encoded data removed]",
      "text/plain": [
       "<Figure size 432x288 with 1 Axes>"
      ]
     },
     "metadata": {
      "needs_background": "light"
     },
     "output_type": "display_data"
    }
   ],
   "source": [
    "ax = sns.distplot(df.loc[~is_treated, \"Y\"], label=\"untreated\")\n",
    "ax = sns.distplot(df.loc[is_treated, \"Y\"], label=\"treated\")\n",
    "ax.set_xlim(0, None)\n",
    "ax.legend()"
   ]
  },
  {
   "cell_type": "markdown",
   "metadata": {},
   "source": [
    "We are now ready to reproduce one of the key findings from this article. What is the difference in earnings in 1978 between those that did participate in the program and those that did not?"
   ]
  },
  {
   "cell_type": "code",
   "execution_count": 9,
   "metadata": {},
   "outputs": [
    {
     "data": {
      "text/plain": [
       "'886.30'"
      ]
     },
     "execution_count": 9,
     "metadata": {},
     "output_type": "execute_result"
    }
   ],
   "source": [
    "stat = df.loc[is_treated, \"Y\"].mean() - df.loc[~is_treated, \"Y\"].mean()\n",
    "f\"{stat:.2f}\""
   ]
  },
  {
   "cell_type": "markdown",
   "metadata": {},
   "source": [
    "Earnings are \\$1129.49 higher among those that participate in the treatment compared to those that do not. Can we say even more?"
   ]
  },
  {
   "cell_type": "markdown",
   "metadata": {},
   "source": [
    "### Causal graphs "
   ]
  },
  {
   "cell_type": "markdown",
   "metadata": {},
   "source": [
    "One unique feature of our core textbook is the heavy use of causal graphs to investigate and assess the validity of different estimation strategies. Here are some examples of what to expect.\n",
    "\n",
    "<img src=\"material/fig-causal-graph-1.png\" width=500>\n",
    "\n",
    "* condition on variables, i.e. matching and regression-based estimation \n",
    "\n",
    "There are three general strategies to estimate causal effects and their applicability depends on the exact structure of the causal graph.\n",
    "\n",
    "<img src=\"material/fig-causal-graph-2.png\" width=500>\n",
    "\n",
    "* exogenous variation, i.e. instrumental variables estimation\n",
    "\n",
    "<img src=\"material/fig-causal-graph-3.png\" width=500>\n",
    "\n",
    "* establish an exhaustive and isolated mechanism, i.e. structural estimation\n",
    "\n",
    "The key message for now:\n",
    "\n",
    "* There is often more than one way to estimate a causal effect with differing demands about knowledge and observability\n",
    "\n",
    "Pearl (2009) is the seminal reference on the use of graphs to represent general causal representations.\n",
    "\n"
   ]
  },
  {
   "cell_type": "markdown",
   "metadata": {},
   "source": [
    "### Resources"
   ]
  },
  {
   "cell_type": "markdown",
   "metadata": {},
   "source": [
    "* **Angrist, J. D., & Pischke, J. (2009)**. *Mostly harmless econometrics: An empiricists companion*. Princeton, NJ: Princeton University Press.\n",
    "\n",
    "\n",
    "* **Frölich, M., and Sperlich, S. (2019)**. *Impact evaluation: Treatment effects and causal analysis*. Cambridge, England: Cambridge University Press.\n",
    "\n",
    "\n",
    "* **LaLonde, R. J. (1986)**. [Evaluating the econometric evaluations of training programs with experimental data](https://www.jstor.org/stable/1806062). *The American Economic Review*, 76(4), 604-620.\n",
    "\n",
    "\n",
    "* **Pearl, J. (2009)**. [*Causality*] (https://www.cambridge.org/core/books/causality/B0046844FAE10CBF274D4ACBDAEB5F5B).  Cambridge, England: Cambridge University Press.\n",
    "\n",
    "\n",
    "* **Winship, C., & Morgan, S. L. (2007)**. [*Counterfactuals and causal inference: Methods and principles for social research*](https://www.amazon.com/Counterfactuals-Causal-Inference-Principles-Analytical/dp/1107694167/ref=dp_ob_title_bk). Cambridge, England: Cambridge University Press.\n",
    "\n",
    "\n",
    "* **Wooldridge, J. M. (2001)**. *Econometric analysis of cross section and panel data*. Cambridge, MA: The MIT Press."
   ]
  }
 ],
 "metadata": {
  "kernelspec": {
   "display_name": "Python 3",
   "language": "python",
   "name": "python3"
  },
  "language_info": {
   "codemirror_mode": {
    "name": "ipython",
    "version": 3
   },
   "file_extension": ".py",
   "mimetype": "text/x-python",
   "name": "python",
   "nbconvert_exporter": "python",
   "pygments_lexer": "ipython3",
   "version": "3.7.7"
  },
  "latex_envs": {
   "LaTeX_envs_menu_present": true,
   "autoclose": false,
   "autocomplete": true,
   "bibliofile": "literature.bib",
   "cite_by": "apalike",
   "current_citInitial": 1,
   "eqLabelWithNumbers": true,
   "eqNumInitial": 1,
   "hotkeys": {
    "equation": "Ctrl-E",
    "itemize": "Ctrl-I"
   },
   "labels_anchors": false,
   "latex_user_defs": false,
   "report_style_numbering": false,
   "user_envs_cfg": false
  },
  "toc-autonumbering": false,
  "varInspector": {
   "cols": {
    "lenName": 16,
    "lenType": 16,
    "lenVar": 40
   },
   "kernels_config": {
    "python": {
     "delete_cmd_postfix": "",
     "delete_cmd_prefix": "del ",
     "library": "var_list.py",
     "varRefreshCmd": "print(var_dic_list())"
    },
    "r": {
     "delete_cmd_postfix": ") ",
     "delete_cmd_prefix": "rm(",
     "library": "var_list.r",
     "varRefreshCmd": "cat(var_dic_list()) "
    }
   },
   "types_to_exclude": [
    "module",
    "function",
    "builtin_function_or_method",
    "instance",
    "_Feature"
   ],
   "window_display": false
  }
 },
 "nbformat": 4,
 "nbformat_minor": 4
}
