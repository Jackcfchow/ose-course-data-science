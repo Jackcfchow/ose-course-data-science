{
 "cells": [
  {
   "cell_type": "markdown",
   "metadata": {},
   "source": [
    "## Front-door identification"
   ]
  },
  {
   "cell_type": "markdown",
   "metadata": {
    "pycharm": {
     "name": "#%% md\n"
    }
   },
   "source": [
    "If one or more unblocked bach-door paths connect a causal variable to an outcome variable, the  causal effect is identified by conditioning on a set of observed variables $\\{M\\}$, that make up an identifying mechanism if\n",
    "\n",
    "* **Condition 1 (exhaustiveness)** The variables in the set $\\{M\\}$ intercept all directed paths \n",
    "from the causal variable to the outcome variable.\n",
    "\n",
    "* **Condition 2 (isolation)** No unblocked back-door paths connect the causal variable to the \n",
    "variables in the set $\\{M\\}$, and all back-door paths from the variables in the set $\\{M\\}$ to \n",
    "the outcome variable can be blocked by conditioning on the causal variable."
   ]
  }
 ],
 "metadata": {
  "kernelspec": {
   "display_name": "Python 3",
   "language": "python",
   "name": "python3"
  },
  "language_info": {
   "codemirror_mode": {
    "name": "ipython",
    "version": 3
   },
   "file_extension": ".py",
   "mimetype": "text/x-python",
   "name": "python",
   "nbconvert_exporter": "python",
   "pygments_lexer": "ipython3",
   "version": "3.7.7"
  }
 },
 "nbformat": 4,
 "nbformat_minor": 4
}
