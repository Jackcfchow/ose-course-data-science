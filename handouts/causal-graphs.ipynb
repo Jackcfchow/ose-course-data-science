{
 "cells": [
  {
   "cell_type": "markdown",
   "metadata": {},
   "source": [
    "# Causal Graphs\n",
    "\n",
    "## Definitions, patterns, and strategies"
   ]
  },
  {
   "cell_type": "markdown",
   "metadata": {},
   "source": [
    "## Definitions\n",
    "\n",
    "- A **node** represents a random variable labeled by letter. Observed random variables are marked by solid circle • and unobserved - by hollow circle ◦.\n",
    "- An **edge**  shows dependence between joining variables.\n",
    "- Adjacent variables are connected by an edge.\n",
    "- **Adjacent edges** meet at a variable.\n",
    "- A **directed edge** represents the cause by a single-headed arrow.\n",
    "- A **parent/child** is the starting(tail)/ending(head) variable. Therefore, a directed edge represents a direct effect of a parent on a child.\n",
    "- A **root** is a variable that has no parent. In other words, it is an exogenous variable determined only by forces outside of the graph.\n",
    "- A **sink** is a variable with no children.\n",
    "- A **path** is a sequence of adjacent edges.\n",
    "- A **directed path** is a path traced out entirely along arrows tail-to-head. If there is a directed path from $A$ to $B$, $A$ is an **ancestor** of $B$; $B$ is a **descendant** of $A$.\n",
    "- A **directed acyclic graph (DAG)** is a graph with only arrows for edges and no feedback loops (i.e. no variable is its own ancestor or its own descendant):\n",
    "\n",
    "<img src=\"materials/fig-causal-graphs-1-handout.png\" width=\"500\">    \n",
    "\n",
    "- **Joint dependence** of two variables on one or more common causes is shown either with unobservable variable or with bidirected dashed curved edge:\n",
    "\n",
    "<img src=\"materials/fig-causal-graphs-2-b-handout.png\" width=\"500\">  \n",
    "\n",
    "<img src=\"materials/fig-causal-graphs-2-a-handout.png\" width=\"500\">  "
   ]
  },
  {
   "cell_type": "markdown",
   "metadata": {},
   "source": [
    "## Patterns\n",
    "\n",
    "- **Chain of mediation** is a relationship when $A$ affects $B$ through $A$’s causal effect on $C$ and $C$’s causal effect on $B$:\n",
    "\n",
    "<img src=\"materials/fig-causal-graphs-3-handout.png\" width=\"500\">    \n",
    "\n",
    "- **Mutual dependence** is a relationship when $A$ and $B$ are both caused by $C$ (a variable $C$ that affects both the dependent and independent variable is called a **confounding variable**):\n",
    "\n",
    "<img src=\"materials/fig-causal-graphs-4-handout.png\" width=\"500\">   \n",
    "\n",
    "- **Mutual causation** is a relationship when $A$ and $B$ are both causes of $C$ (a variable $C$ that has two arrows running into it is called a **collider**):\n",
    "\n",
    "<img src=\"materials/fig-causal-graphs-5-handout.png\" width=\"500\">   \n",
    "\n",
    "- A **back-door path** is a path between any causally ordered sequence of two variables that include a directed edge that points to the first variable.\n",
    "\n",
    "- **Conditioning** as a modeling strategy means transforming one graph into a simpler set of component graphs where fewer causes are represented."
   ]
  },
  {
   "cell_type": "markdown",
   "metadata": {},
   "source": [
    "## Strategies\n",
    "\n",
    "A **back-door criterion** is a set of conditions used to determine whether or not conditioning on a given set of observed variable will identify the causal effect. The causal effect is identified by conditioning on a set of variables $Z$ if and only if all back-door paths between the causal variable and the outcome variable are blocked after conditioning on $Z$. All back-door paths are blocked by $Z$ if and only if each back-door path:\n",
    "- contains a chain of mediation $A → C → B$ where the middle variable $C$ is in $Z$, or\n",
    "- contains a fork of mutual dependence $A ← C → B$, where the middle variable $C$ is in $Z$, or\n",
    "- contains an inverted fork of mutual causation $A → C ← B$, where the middle variable $C$ and all of $C$’s decendents are not in $Z$.\n",
    "\n",
    "A **front-door criterion** is an empirical strategy used to identify the causal relationship flowing from $A$ to $B$ if one can find a mechanism C which:\n",
    "- lies on the causal path between $A$ and $B$, and\n",
    "- it is the only such mechanism, and\n",
    "- it is not affected by the unobserved confounder $U$:\n",
    "\n",
    "<img src=\"materials/fig-causal-graphs-6-handout.png\" width=\"500\">  \n",
    "\n",
    "You can find more on front-door criterion application in the Bellemare & Bloem (2020)\n",
    "paper."
   ]
  },
  {
   "cell_type": "markdown",
   "metadata": {},
   "source": [
    "# References\n",
    "- Bellemare, M., & Bloem, J. (2020). [The paper of how: Estimating treatment effects using the front-door criterion](http://marcfbellemare.com/wordpress/wp-content/uploads/2019/08/BellemareBloemFDCAugust2019.pdf). Working Paper.\n",
    "- Morgan, S. L., & Winship, C. (2014). [Counterfactuals and causal inference](https://www.cambridge.org/core/books/counterfactuals-and-causal-inference/5CC81E6DF63C5E5A8B88F79D45E1D1B7). Cambridge, England: Cambridge University Press.\n",
    "- Pearl, J. (2009). [Causality](https://www.cambridge.org/core/books/causality/B0046844FAE10CBF274D4ACBDAEB5F5B). Cambridge, England: Cambridge University Press."
   ]
  }
 ],
 "metadata": {
  "kernelspec": {
   "display_name": "Python 3",
   "language": "python",
   "name": "python3"
  },
  "language_info": {
   "codemirror_mode": {
    "name": "ipython",
    "version": 3
   },
   "file_extension": ".py",
   "mimetype": "text/x-python",
   "name": "python",
   "nbconvert_exporter": "python",
   "pygments_lexer": "ipython3",
   "version": "3.7.7"
  }
 },
 "nbformat": 4,
 "nbformat_minor": 4
}
